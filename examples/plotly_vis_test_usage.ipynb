{
 "cells": [
  {
   "cell_type": "code",
   "execution_count": null,
   "metadata": {},
   "outputs": [],
   "source": [
    "%load_ext autoreload\n",
    "%autoreload 2\n",
    "\n",
    "import numpy as np\n",
    "import pandas as pd\n",
    "import plotly.express as px\n",
    "\n",
    "from jz_visualizations import plotly_vis"
   ]
  },
  {
   "cell_type": "markdown",
   "metadata": {},
   "source": [
    "### *This notebook covers several use cases, using random data, for using the `agg_plot` and `correlation_plot` functions in the associated visualizations.py file*"
   ]
  },
  {
   "cell_type": "markdown",
   "metadata": {},
   "source": [
    "***\n",
    "#### `agg_plot` function"
   ]
  },
  {
   "cell_type": "markdown",
   "metadata": {},
   "source": [
    "#### 1. make random data\n",
    "- ##### 1 subject info variable -- `Subject`\n",
    "- ##### 3 independent variables -- `Var`, `Var2`, `Time`\n",
    "- ##### 1 dependent variable -- `Readout`"
   ]
  },
  {
   "cell_type": "code",
   "execution_count": null,
   "metadata": {},
   "outputs": [],
   "source": [
    "subject_list = ['S{}'.format(m) for m in np.arange(1,11)]\n",
    "ab = ['A', 'B']\n",
    "xy = ['X', 'Y']\n",
    "time = np.arange(1,21,1)\n",
    "\n",
    "agg_data = pd.DataFrame()\n",
    "\n",
    "for subject in subject_list:\n",
    "    for var_1 in ab:\n",
    "        for var_2 in xy:\n",
    "            for t in time:\n",
    "                agg_data = pd.concat([agg_data,\n",
    "                                       pd.DataFrame({'Subject':subject,\n",
    "                                                     'Var1':var_1,\n",
    "                                                     'Var2':var_2,\n",
    "                                                     'Time':t,\n",
    "                                                     'Readout':np.random.randn(1)[0]}, index=[0])])\n",
    "                \n",
    "agg_data"
   ]
  },
  {
   "cell_type": "markdown",
   "metadata": {},
   "source": [
    "#### 2. minimal example"
   ]
  },
  {
   "cell_type": "code",
   "execution_count": null,
   "metadata": {},
   "outputs": [],
   "source": [
    "data = agg_data.copy()\n",
    "plot_var = 'Readout'\n",
    "group_var = 'Time'\n",
    "plotly_vis.agg_plot(data=data, plot_var=plot_var, group_var=group_var)"
   ]
  },
  {
   "cell_type": "markdown",
   "metadata": {},
   "source": [
    "#### 3. minimal example with labels"
   ]
  },
  {
   "cell_type": "code",
   "execution_count": null,
   "metadata": {},
   "outputs": [],
   "source": [
    "data = agg_data.copy()\n",
    "plot_var = 'Readout'\n",
    "group_var = 'Time'\n",
    "plotly_vis.agg_plot(\n",
    "    data=data,\n",
    "    plot_var=plot_var,\n",
    "    group_var=group_var,\n",
    "    x_title=group_var,\n",
    "    y_title=plot_var,\n",
    "    title='Random data grouped by time'\n",
    "    )"
   ]
  },
  {
   "cell_type": "markdown",
   "metadata": {},
   "source": [
    "#### 3. highly configured example"
   ]
  },
  {
   "cell_type": "code",
   "execution_count": null,
   "metadata": {},
   "outputs": [],
   "source": [
    "data = agg_data.copy()\n",
    "plot_var = 'Readout'\n",
    "group_var = 'Time'\n",
    "overlay_var = 'Var1'\n",
    "sep_var = 'Var2'\n",
    "datapoint_var = 'Subject'\n",
    "\n",
    "color_var = 'Var1'\n",
    "colors = {'A':'steelblue', 'B': 'darkred'} # colors must have a color for each unique value in color_var\n",
    "\n",
    "# convert variables to categoricals to change order of unique categories\n",
    "data[sep_var] = pd.Categorical(data[sep_var], categories=['Y', 'X'])\n",
    "\n",
    "plotly_vis.agg_plot(\n",
    "    data=data,\n",
    "    plot_var=plot_var,\n",
    "    group_var=group_var,\n",
    "    overlay_var=overlay_var,\n",
    "    sep_var=sep_var,\n",
    "    datapoint_var=datapoint_var,\n",
    "    color_var=color_var,\n",
    "    colors=colors,\n",
    "    plot_mode='line', # switch from bar to line plot\n",
    "    central_tendency='median', # switch from mean to median\n",
    "    error_type='std', # switch from sem to std\n",
    "    plot_datapoints=True, # plot datapoints for each subject\n",
    "    plot_datalines=True, # plot datalines for each subject\n",
    "    color_datapoints=True, # color code each subject by its grouping color\n",
    "    plot_width=1000, # the rest are spacing and text configurations\n",
    "    y_title=plot_var,\n",
    "    x_title=group_var,\n",
    "    h_spacing=0.05,\n",
    "    x_dtick=2,\n",
    "    tick_angle=0\n",
    "    )\n",
    "# there are more configurations that I did not include here; take a look at the documentation for the rest"
   ]
  },
  {
   "cell_type": "markdown",
   "metadata": {},
   "source": [
    "#### 4. plot without aggregate data, only subjects"
   ]
  },
  {
   "cell_type": "code",
   "execution_count": null,
   "metadata": {},
   "outputs": [],
   "source": [
    "data = agg_data.copy()\n",
    "plot_var = 'Readout'\n",
    "group_var = 'Time'\n",
    "overlay_var = 'Var1'\n",
    "sep_var = 'Var2'\n",
    "datapoint_var = 'Subject'\n",
    "\n",
    "color_var = 'Var1'\n",
    "colors = {'A':'steelblue', 'B': 'darkred'} # colors must have a color for each unique value in color_var\n",
    "\n",
    "plotly_vis.agg_plot(\n",
    "    data=data,\n",
    "    plot_var=plot_var,\n",
    "    group_var=group_var,\n",
    "    overlay_var=overlay_var,\n",
    "    sep_var=sep_var,\n",
    "    datapoint_var=datapoint_var,\n",
    "    color_var=color_var,\n",
    "    colors=colors,\n",
    "    plot_agg=False, # remove the plotting of aggregate data\n",
    "    plot_datapoints=False,\n",
    "    plot_datalines=True,\n",
    "    color_datapoints=True, \n",
    "    plot_width=1000,\n",
    "    y_title=plot_var,\n",
    "    x_title=group_var\n",
    "    )"
   ]
  },
  {
   "cell_type": "markdown",
   "metadata": {},
   "source": [
    "#### 5. add shapes to plot"
   ]
  },
  {
   "cell_type": "code",
   "execution_count": null,
   "metadata": {},
   "outputs": [],
   "source": [
    "data = agg_data.copy()\n",
    "plot_var = 'Readout'\n",
    "group_var = 'Time'\n",
    "overlay_var = 'Var1'\n",
    "datapoint_var = 'Subject'\n",
    "\n",
    "color_var = 'Var1'\n",
    "colors = {'A':'steelblue', 'B': 'darkred'} # colors must have a color for each unique value in color_var\n",
    "\n",
    "# create list of shapes\n",
    "# see here for how to make shapes for plotly: https://plotly.com/python/shapes/\n",
    "shapes = [dict(type='rect', x0=1, y0=-1, x1=5, y1=1, line=dict(color=\"royalblue\", width=2), fillcolor=\"lightskyblue\"),\n",
    "          dict(type='circle', x0=10, y0=-1, x1=15, y1=1, line=dict(color=\"darkred\", width=2), fillcolor=\"pink\")]\n",
    "\n",
    "plotly_vis.agg_plot(\n",
    "    data=data,\n",
    "    plot_var=plot_var,\n",
    "    group_var=group_var,\n",
    "    overlay_var=overlay_var,\n",
    "    datapoint_var=datapoint_var,\n",
    "    color_var=color_var,\n",
    "    colors=colors,\n",
    "    plot_mode='line', # switch from bar to line plot\n",
    "    shapes_to_add=shapes\n",
    "    )"
   ]
  },
  {
   "cell_type": "markdown",
   "metadata": {},
   "source": [
    "***\n",
    "#### `correlation_plot` function"
   ]
  },
  {
   "cell_type": "markdown",
   "metadata": {},
   "source": [
    "#### 1. make random data\n",
    "- ##### 1 subject info variable -- `Subject`\n",
    "- ##### 1 grouping variable -- `Group`\n",
    "- ##### 2 plotting variable -- `X`, `Y`"
   ]
  },
  {
   "cell_type": "code",
   "execution_count": null,
   "metadata": {},
   "outputs": [],
   "source": [
    "subject_list = ['S{}'.format(m) for m in np.arange(1,1001)]\n",
    "ab = ['A', 'B']\n",
    "\n",
    "corr_data = pd.DataFrame()\n",
    "for subject in subject_list:\n",
    "    for group in ab:\n",
    "        corr_data = pd.concat([corr_data,\n",
    "                               pd.DataFrame({'Subject':subject,\n",
    "                                             'Group':group,\n",
    "                                             'X':np.random.randn(1)[0],\n",
    "                                             'Y':np.random.randn(1)[0]}, index=[0])])\n",
    "\n",
    "color_dict = {'A':'steelblue', 'B':'darkred'}\n",
    "corr_colors = [color_dict[g] for g in corr_data['Group']]\n",
    "\n",
    "corr_data"
   ]
  },
  {
   "cell_type": "markdown",
   "metadata": {},
   "source": [
    "#### 2. minimal example"
   ]
  },
  {
   "cell_type": "code",
   "execution_count": null,
   "metadata": {},
   "outputs": [],
   "source": [
    "plotly_vis.correlation_plot(data_x=corr_data['X'].values, data_y=corr_data['Y'].values)"
   ]
  },
  {
   "cell_type": "markdown",
   "metadata": {},
   "source": [
    "#### 3. minimal example with a line of fit for each group, color-coded"
   ]
  },
  {
   "cell_type": "code",
   "execution_count": null,
   "metadata": {},
   "outputs": [],
   "source": [
    "plotly_vis.correlation_plot(data_x=corr_data['X'].values,\n",
    "                                data_y=corr_data['Y'].values,\n",
    "                                groups=corr_data['Group'].values,\n",
    "                                colors=corr_colors)"
   ]
  },
  {
   "cell_type": "markdown",
   "metadata": {},
   "source": [
    "#### 4. highly configured example"
   ]
  },
  {
   "cell_type": "code",
   "execution_count": null,
   "metadata": {},
   "outputs": [],
   "source": [
    "plotly_vis.correlation_plot(\n",
    "    data_x=corr_data['X'].values,\n",
    "    data_y=corr_data['Y'].values,\n",
    "    groups=corr_data['Group'],\n",
    "    colors=None,\n",
    "    x_title='X',\n",
    "    y_title='Y',\n",
    "    color_palette=px.colors.qualitative.Safe, # use color palette if colors is None\n",
    "    corr_method='kendall', # switch pearson for kendall-tau\n",
    "    title=\"X by Y correlation\",\n",
    "    textinfo=corr_data['Group'], # add hover text beyond the X and Y coordinates\n",
    "    plot_fits=True,\n",
    "    plot_identity=True, # plot identity line\n",
    "    same_xy_scale=True, # plot the axes on the same scale\n",
    "    showlegend=False, # remove legend\n",
    "    x_range=None,\n",
    "    y_range=None,\n",
    "    text_size=10, # small text size\n",
    "    font_family='Times', # change font from Arial\n",
    "    marker_size=4, # tiny markers\n",
    "    outline_width=0, # get rid of black outline around individual points\n",
    "    line_width=5, # thicker lines\n",
    "    opacity=0.8,\n",
    "    plot_height=600,\n",
    "    plot_width=600,\n",
    "    save_path=None, # set absolute path including file name and extension to save plot (png, svg, or html)\n",
    "    plot_scale=5 # only used for saving, if file extension is png\n",
    "    )"
   ]
  },
  {
   "cell_type": "markdown",
   "metadata": {},
   "source": [
    "#### 5. Plot only lines of best fit with confidence intervals, and without points"
   ]
  },
  {
   "cell_type": "code",
   "execution_count": null,
   "metadata": {},
   "outputs": [],
   "source": [
    "plotly_vis.correlation_plot(data_x=corr_data['X'].values,\n",
    "                                data_y=corr_data['Y'].values,\n",
    "                                groups=corr_data['Group'].values,\n",
    "                                colors=corr_colors,\n",
    "                                plot_points=False,\n",
    "                                plot_fits=True,\n",
    "                                plot_ci=True)"
   ]
  },
  {
   "cell_type": "code",
   "execution_count": null,
   "metadata": {},
   "outputs": [],
   "source": []
  }
 ],
 "metadata": {
  "kernelspec": {
   "display_name": "jzvis",
   "language": "python",
   "name": "python3"
  },
  "language_info": {
   "codemirror_mode": {
    "name": "ipython",
    "version": 3
   },
   "file_extension": ".py",
   "mimetype": "text/x-python",
   "name": "python",
   "nbconvert_exporter": "python",
   "pygments_lexer": "ipython3",
   "version": "3.12.11"
  }
 },
 "nbformat": 4,
 "nbformat_minor": 2
}
