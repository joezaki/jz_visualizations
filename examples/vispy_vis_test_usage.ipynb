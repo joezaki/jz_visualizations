{
 "cells": [
  {
   "cell_type": "code",
   "execution_count": null,
   "id": "1092e33e",
   "metadata": {},
   "outputs": [],
   "source": [
    "%load_ext autoreload\n",
    "%autoreload 2\n",
    "\n",
    "import numpy as np\n",
    "from vispy.color import colormap\n",
    "\n",
    "from jz_visualizations.vispy_vis import Vis"
   ]
  },
  {
   "cell_type": "markdown",
   "id": "5ad1e745",
   "metadata": {},
   "source": [
    "***\n",
    "#### _Useful tips to note for using this tool_:\n",
    "1. ##### _when using `Vis` in jupyter notebooks, must call `%gui qt` magic command or notebook will crash_\n",
    "2. ##### _when `Vis.show()` is run, a window will open and this cell will remain running until the window is closed_\n",
    "2. ##### _double click resets the original view_\n",
    "3. ##### _right clicking while dragging right/left zooms x-axis in/out_\n",
    "4. ##### _right clicking while dragging up/down zooms y-axis in/out_\n",
    "5. ##### _slider can be controlled with the left/right arrow keys_"
   ]
  },
  {
   "cell_type": "markdown",
   "id": "2cbacacb",
   "metadata": {},
   "source": [
    "***\n",
    "#### Barebones example of a blank canvas"
   ]
  },
  {
   "cell_type": "code",
   "execution_count": null,
   "id": "adbe8de1",
   "metadata": {},
   "outputs": [],
   "source": [
    "%gui qt\n",
    "vis_obj = Vis()\n",
    "vis_obj.show()"
   ]
  },
  {
   "cell_type": "markdown",
   "id": "0e06b70e",
   "metadata": {},
   "source": [
    "***\n",
    "#### Example of an image plot of a single image"
   ]
  },
  {
   "cell_type": "code",
   "execution_count": null,
   "id": "e7cbfd47",
   "metadata": {},
   "outputs": [],
   "source": [
    "%gui qt\n",
    "N = 10_000\n",
    "\n",
    "vis_obj = Vis(title='Single image', width=700, height=1000)\n",
    "vis_obj.draw_image(data=np.random.rand(N,N), cmap='Spectral_r')\n",
    "vis_obj.show()"
   ]
  },
  {
   "cell_type": "markdown",
   "id": "a4a9b2bd",
   "metadata": {},
   "source": [
    "#### Example of an image plot of a list of images"
   ]
  },
  {
   "cell_type": "code",
   "execution_count": null,
   "id": "55a6d60d",
   "metadata": {},
   "outputs": [],
   "source": [
    "%gui qt\n",
    "N = 10_000\n",
    "data_ls = [np.random.rand(N,N)*10,\n",
    "           np.random.rand(N,N)*5,\n",
    "           np.random.rand(N,N)]\n",
    "\n",
    "vis_obj = Vis(title='List of images', width=700, height=1000)\n",
    "vis_obj.draw_image(data=data_ls, cmap='Spectral_r')\n",
    "vis_obj.show()"
   ]
  },
  {
   "cell_type": "markdown",
   "id": "1b66ee4b",
   "metadata": {},
   "source": [
    "***\n",
    "#### Example of a line plot for a `y` array with no specified `x` (random walk)"
   ]
  },
  {
   "cell_type": "code",
   "execution_count": null,
   "id": "e1982ab5",
   "metadata": {},
   "outputs": [],
   "source": [
    "%gui qt\n",
    "N = 10000\n",
    "\n",
    "vis_obj = Vis(title='One single line', width=1200, height=200)\n",
    "vis_obj.draw_line(\n",
    "    y=np.cumsum(np.random.choice([-1,1], size=N)),\n",
    "    line_color='teal',\n",
    "    magnify=True\n",
    "    )\n",
    "vis_obj.show()"
   ]
  },
  {
   "cell_type": "markdown",
   "id": "7ed40532",
   "metadata": {},
   "source": [
    "#### Example of a line plot for a _list_ of `y` without specified `x` values"
   ]
  },
  {
   "cell_type": "code",
   "execution_count": null,
   "id": "d8cc2bba",
   "metadata": {},
   "outputs": [],
   "source": [
    "%gui qt\n",
    "N = 10000\n",
    "vis_obj = Vis(title='List of lines', width=1200, height=200)\n",
    "y_ls = [np.cumsum(np.random.choice([-1,1], size=N))*n for n in np.random.randn(5)] # make a list of 5 random lines\n",
    "\n",
    "vis_obj.draw_line(\n",
    "    y=y_ls,\n",
    "    line_color='teal',\n",
    "    magnify=True\n",
    "    )\n",
    "vis_obj.show()"
   ]
  },
  {
   "cell_type": "markdown",
   "id": "dddce2f6",
   "metadata": {},
   "source": [
    "#### Example of a line plot for a list of `y` of differing lengths"
   ]
  },
  {
   "cell_type": "code",
   "execution_count": null,
   "id": "5f5fc056",
   "metadata": {},
   "outputs": [],
   "source": [
    "%gui qt\n",
    "vis_obj = Vis(title='Lines of different lengths', width=1200, height=200)\n",
    "n_ls = [np.random.randint(n*1000) for n in [1, 10, 100]]\n",
    "y_ls = [np.cumsum(np.random.choice([-1,1], size=n)) for n in n_ls]\n",
    "y_ls.append(np.arange(1000))\n",
    "\n",
    "vis_obj.draw_line(\n",
    "    y=y_ls,\n",
    "    line_color='teal',\n",
    "    magnify=True,\n",
    "    same_scale=False # setting this to True will keep the xy scale of the plot consistent along the slider\n",
    "    )\n",
    "vis_obj.show()"
   ]
  },
  {
   "cell_type": "markdown",
   "id": "4b70e9c2",
   "metadata": {},
   "source": [
    "#### Example of a line plot for `y` with a specified `x`"
   ]
  },
  {
   "cell_type": "code",
   "execution_count": null,
   "id": "8ef4e25f",
   "metadata": {},
   "outputs": [],
   "source": [
    "%gui qt\n",
    "N = 10000\n",
    "vis_obj = Vis(title='Line with specified x and y', width=1200, height=200)\n",
    "y_ls = [np.random.rand(N)*n for n in np.random.randn(3)] # make a list of 5 random lines\n",
    "line_color_ls = ['teal', 'rosybrown', 'tan']\n",
    "title_ls = [f'Line Number {x}' for x in np.arange(len(y_ls))]\n",
    "\n",
    "vis_obj.draw_line(\n",
    "    y=y_ls,\n",
    "    line_color=line_color_ls,\n",
    "    magnify=True,\n",
    "    title_ls=title_ls,\n",
    "    same_scale=False\n",
    "    )\n",
    "vis_obj.show()"
   ]
  },
  {
   "cell_type": "markdown",
   "id": "b40776d3",
   "metadata": {},
   "source": [
    "#### Example of configuring a line plot\n",
    "- ##### list of colors `line_color_ls`\n",
    "- ##### list of titles `title_ls`"
   ]
  },
  {
   "cell_type": "code",
   "execution_count": null,
   "id": "9f83f9ac",
   "metadata": {},
   "outputs": [],
   "source": [
    "%gui qt\n",
    "N = 10000\n",
    "vis_obj = Vis(title='Configuring line plot', width=1200, height=200)\n",
    "y_ls = [np.random.rand(N)*n for n in np.random.randn(3)] # make a list of 5 random lines\n",
    "line_color_ls = ['teal', 'rosybrown', 'tan']\n",
    "title_ls = [f'Line Number {x}' for x in np.arange(len(y_ls))]\n",
    "\n",
    "vis_obj.draw_line(\n",
    "    y=y_ls,\n",
    "    line_color=line_color_ls,\n",
    "    magnify=True,\n",
    "    title_ls=title_ls\n",
    "    )\n",
    "vis_obj.show()"
   ]
  },
  {
   "cell_type": "markdown",
   "id": "64a871c9",
   "metadata": {},
   "source": [
    "***\n",
    "#### Example of a scatter plot for a single `x` and `y` pair"
   ]
  },
  {
   "cell_type": "code",
   "execution_count": null,
   "id": "7be4f55d",
   "metadata": {},
   "outputs": [],
   "source": [
    "%gui qt\n",
    "N = 1000\n",
    "vis_obj = Vis(title='One single scatter', width=500, height=500)\n",
    "vis_obj.draw_scatter(\n",
    "    x=np.random.rand(N),\n",
    "    y=np.random.rand(N),\n",
    "    marker_color='teal',\n",
    "    marker_size=10,\n",
    "    opacity=0.8\n",
    "    )\n",
    "vis_obj.show()"
   ]
  },
  {
   "cell_type": "markdown",
   "id": "4c4f2c08",
   "metadata": {},
   "source": [
    "#### Example of a scatter plot with every point uniquely color-coded"
   ]
  },
  {
   "cell_type": "code",
   "execution_count": null,
   "id": "fe0b0c2d",
   "metadata": {},
   "outputs": [],
   "source": [
    "%gui qt\n",
    "N = 10_000\n",
    "marker_colors = [list(c) for c in colormap.get_colormap('Spectral_r').map(np.arange(N)/N)]\n",
    "\n",
    "vis_obj = Vis(title='Uniquely colored scatter', width=800, height=800)\n",
    "vis_obj.draw_scatter(\n",
    "    x=np.arange(N),\n",
    "    y=np.random.rand(N),\n",
    "    marker_color=marker_colors,\n",
    "    marker_size=8,\n",
    "    opacity=0.8\n",
    "    )\n",
    "vis_obj.show()"
   ]
  },
  {
   "cell_type": "markdown",
   "id": "e956553f",
   "metadata": {},
   "source": [
    "#### Example of a list of scatter plots"
   ]
  },
  {
   "cell_type": "code",
   "execution_count": null,
   "id": "02add6ff",
   "metadata": {},
   "outputs": [],
   "source": [
    "%gui qt\n",
    "N = 10_000\n",
    "slider_num = 3\n",
    "\n",
    "x_ls = [np.arange(N) for n in np.arange(slider_num)]\n",
    "y_ls = [np.random.rand(N) for n in np.arange(slider_num)]\n",
    "marker_colors = [list(c) for c in colormap.get_colormap('viridis').map(np.arange(N)/N)]\n",
    "\n",
    "vis_obj = Vis(title='Huge scatter', width=800, height=800)\n",
    "vis_obj.draw_scatter(\n",
    "    x=x_ls,\n",
    "    y=y_ls,\n",
    "    marker_color=marker_colors,\n",
    "    marker_size=8,\n",
    "    opacity=0.8\n",
    "    )\n",
    "vis_obj.show()"
   ]
  },
  {
   "cell_type": "markdown",
   "id": "4d55935d",
   "metadata": {},
   "source": [
    "### Example of a list of scatter plots with different ranges"
   ]
  },
  {
   "cell_type": "code",
   "execution_count": null,
   "id": "8e49c700",
   "metadata": {},
   "outputs": [],
   "source": [
    "%gui qt\n",
    "N = 10_000\n",
    "slider_num = 5\n",
    "\n",
    "x_ls = [np.arange(N)*((n+1)**2) for n in np.arange(slider_num)]\n",
    "y_ls = [np.random.rand(N)*((n+1)**2) for n in np.arange(slider_num)]\n",
    "marker_colors = [list(c) for c in colormap.get_colormap('viridis').map(np.arange(N)/N)]\n",
    "\n",
    "vis_obj = Vis(title='Huge scatter', width=800, height=800)\n",
    "vis_obj.draw_scatter(\n",
    "    x=x_ls,\n",
    "    y=y_ls,\n",
    "    marker_color=marker_colors,\n",
    "    marker_size=8,\n",
    "    opacity=0.8,\n",
    "    same_scale=True\n",
    "    )\n",
    "vis_obj.show()"
   ]
  },
  {
   "cell_type": "markdown",
   "id": "0696efff",
   "metadata": {},
   "source": [
    "### Example of multiple subplots in the same canvas"
   ]
  },
  {
   "cell_type": "code",
   "execution_count": null,
   "id": "08cbb310",
   "metadata": {},
   "outputs": [],
   "source": [
    "%gui qt\n",
    "vis_obj = Vis(title='Multiple subplots', width=1500, height=500)\n",
    "\n",
    "# add coordinates for each subplot\n",
    "vis_obj.view_coords['subplot1'] = (0,0) # image\n",
    "vis_obj.view_coords['subplot2'] = (0,1) # line\n",
    "vis_obj.view_coords['subplot3'] = (0,2) # scatter\n",
    "\n",
    "# draw image\n",
    "vis_obj.draw_image(\n",
    "    data=np.random.normal(size=[1000,1000]),\n",
    "    name='subplot1',\n",
    "    cmap='Spectral_r'\n",
    "    )\n",
    "\n",
    "# draw line\n",
    "vis_obj.draw_line(\n",
    "    x=np.cumsum(np.random.choice(np.linspace(-1,1,10),10_000)),\n",
    "    y=np.cumsum(np.random.choice(np.linspace(-1,1,10),10_000)),\n",
    "    name='subplot2',\n",
    "    line_color='tan'\n",
    ")\n",
    "\n",
    "# draw scatter\n",
    "x = np.random.normal(size=10_000)\n",
    "y = np.random.normal(size=10_000)\n",
    "vis_obj.draw_scatter(\n",
    "    x=x,\n",
    "    y=y,\n",
    "    name='subplot3',\n",
    "    marker_color=[list(c) for c in colormap.get_colormap('viridis').map(np.arange(len(x))/len(x))]\n",
    "    )\n",
    "\n",
    "vis_obj.show()"
   ]
  },
  {
   "cell_type": "code",
   "execution_count": null,
   "id": "74eb04eb",
   "metadata": {},
   "outputs": [],
   "source": []
  }
 ],
 "metadata": {
  "kernelspec": {
   "display_name": "minian_modern",
   "language": "python",
   "name": "python3"
  },
  "language_info": {
   "codemirror_mode": {
    "name": "ipython",
    "version": 3
   },
   "file_extension": ".py",
   "mimetype": "text/x-python",
   "name": "python",
   "nbconvert_exporter": "python",
   "pygments_lexer": "ipython3",
   "version": "3.12.11"
  }
 },
 "nbformat": 4,
 "nbformat_minor": 5
}
