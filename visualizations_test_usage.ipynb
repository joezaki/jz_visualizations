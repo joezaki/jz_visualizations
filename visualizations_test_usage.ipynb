{
 "cells": [
  {
   "cell_type": "code",
   "execution_count": 1,
   "metadata": {},
   "outputs": [],
   "source": [
    "%load_ext autoreload\n",
    "%autoreload 2\n",
    "\n",
    "import numpy as np\n",
    "import pandas as pd\n",
    "import visualizations\n",
    "import plotly.express as px"
   ]
  },
  {
   "cell_type": "markdown",
   "metadata": {},
   "source": [
    "### *This notebook covers several use cases, using random data, for using the `agg_plot` and `correlation_plot` functions in the associated visualizations.py file*"
   ]
  },
  {
   "cell_type": "markdown",
   "metadata": {},
   "source": [
    "***\n",
    "#### `agg_plot` function"
   ]
  },
  {
   "cell_type": "markdown",
   "metadata": {},
   "source": [
    "#### 1. make random data\n",
    "- ##### 1 subject info variable -- `Subject`\n",
    "- ##### 3 independent variables -- `Var`, `Var2`, `Time`\n",
    "- ##### 1 dependent variable -- `Readout`"
   ]
  },
  {
   "cell_type": "code",
   "execution_count": null,
   "metadata": {},
   "outputs": [],
   "source": [
    "subject_list = ['S{}'.format(m) for m in np.arange(1,11)]\n",
    "ab = ['A', 'B']\n",
    "xy = ['X', 'Y']\n",
    "time = np.arange(1,21,1)\n",
    "\n",
    "agg_data = pd.DataFrame()\n",
    "\n",
    "for subject in subject_list:\n",
    "    for var_1 in ab:\n",
    "        for var_2 in xy:\n",
    "            for t in time:\n",
    "                agg_data = pd.concat([agg_data,\n",
    "                                       pd.DataFrame({'Subject':subject,\n",
    "                                                     'Var1':var_1,\n",
    "                                                     'Var2':var_2,\n",
    "                                                     'Time':t,\n",
    "                                                     'Readout':np.random.randn(1)[0]}, index=[0])])\n",
    "                \n",
    "agg_data"
   ]
  },
  {
   "cell_type": "markdown",
   "metadata": {},
   "source": [
    "#### 2. minimal example"
   ]
  },
  {
   "cell_type": "code",
   "execution_count": null,
   "metadata": {},
   "outputs": [],
   "source": [
    "data = agg_data.copy()\n",
    "plot_var = 'Readout'\n",
    "group_var = 'Time'\n",
    "data[group_var] = pd.Categorical(data[group_var])\n",
    "visualizations.agg_plot(data=data, plot_var=plot_var, group_var=group_var)"
   ]
  },
  {
   "cell_type": "markdown",
   "metadata": {},
   "source": [
    "#### 3. minimal example with labels"
   ]
  },
  {
   "cell_type": "code",
   "execution_count": null,
   "metadata": {},
   "outputs": [],
   "source": [
    "data = agg_data.copy()\n",
    "plot_var = 'Readout'\n",
    "group_var = 'Time'\n",
    "data[group_var] = pd.Categorical(data[group_var])\n",
    "visualizations.agg_plot(\n",
    "    data=data,\n",
    "    plot_var=plot_var,\n",
    "    group_var=group_var,\n",
    "    x_title=group_var,\n",
    "    y_title=plot_var,\n",
    "    title='Random data grouped by time'\n",
    "    )"
   ]
  },
  {
   "cell_type": "markdown",
   "metadata": {},
   "source": [
    "#### 3. highly configured example"
   ]
  },
  {
   "cell_type": "code",
   "execution_count": null,
   "metadata": {},
   "outputs": [],
   "source": [
    "data = agg_data.copy()\n",
    "plot_var = 'Readout'\n",
    "group_var = 'Time'\n",
    "overlay_var = 'Var1'\n",
    "sep_var = 'Var2'\n",
    "datapoint_var = 'Subject'\n",
    "\n",
    "color_var = 'Var1'\n",
    "colors = {'A':'steelblue', 'B': 'darkred'} # colors must have a color for each unique value in color_var\n",
    "\n",
    "# convert variables to categoricals\n",
    "data[group_var] = pd.Categorical(data[group_var])\n",
    "data[overlay_var] = pd.Categorical(data[overlay_var])\n",
    "data[sep_var] = pd.Categorical(data[sep_var])\n",
    "\n",
    "visualizations.agg_plot(\n",
    "    data=data,\n",
    "    plot_var=plot_var,\n",
    "    group_var=group_var,\n",
    "    overlay_var=overlay_var,\n",
    "    sep_var=sep_var,\n",
    "    datapoint_var=datapoint_var,\n",
    "    color_var=color_var,\n",
    "    colors=colors,\n",
    "    plot_mode='line', # switch from bar to line plot\n",
    "    central_tendency='median', # switch from mean to median\n",
    "    error_type='std', # switch from sem to std\n",
    "    plot_datapoints=True, # plot datapoints for each subject\n",
    "    plot_datalines=True, # plot datalines for each subject\n",
    "    color_datapoints=True, # color code each subject by its grouping color\n",
    "    plot_width=1000, # the rest are spacing and text configurations\n",
    "    y_title=plot_var,\n",
    "    x_title=group_var,\n",
    "    h_spacing=0.05,\n",
    "    x_dtick=2,\n",
    "    tick_angle=0\n",
    "    )\n",
    "# there are more configurations that I did not include here; take a look at the documentation for the rest"
   ]
  },
  {
   "cell_type": "markdown",
   "metadata": {},
   "source": [
    "#### 4. plot without aggregate data, only subjects"
   ]
  },
  {
   "cell_type": "code",
   "execution_count": null,
   "metadata": {},
   "outputs": [],
   "source": [
    "data = agg_data.copy()\n",
    "plot_var = 'Readout'\n",
    "group_var = 'Time'\n",
    "overlay_var = 'Var1'\n",
    "sep_var = 'Var2'\n",
    "datapoint_var = 'Subject'\n",
    "\n",
    "color_var = 'Var1'\n",
    "colors = {'A':'steelblue', 'B': 'darkred'} # colors must have a color for each unique value in color_var\n",
    "\n",
    "# convert variables to categoricals\n",
    "data[group_var] = pd.Categorical(data[group_var])\n",
    "data[overlay_var] = pd.Categorical(data[overlay_var])\n",
    "data[sep_var] = pd.Categorical(data[sep_var])\n",
    "\n",
    "visualizations.agg_plot(\n",
    "    data=data,\n",
    "    plot_var=plot_var,\n",
    "    group_var=group_var,\n",
    "    overlay_var=overlay_var,\n",
    "    sep_var=sep_var,\n",
    "    datapoint_var=datapoint_var,\n",
    "    color_var=color_var,\n",
    "    colors=colors,\n",
    "    plot_agg=False, # remove the plotting of aggregate data\n",
    "    plot_datapoints=False,\n",
    "    plot_datalines=True,\n",
    "    color_datapoints=True, \n",
    "    plot_width=1000,\n",
    "    y_title=plot_var,\n",
    "    x_title=group_var\n",
    "    )"
   ]
  },
  {
   "cell_type": "markdown",
   "metadata": {},
   "source": [
    "#### 5. add shapes to plot"
   ]
  },
  {
   "cell_type": "code",
   "execution_count": null,
   "metadata": {},
   "outputs": [],
   "source": [
    "data = agg_data.copy()\n",
    "plot_var = 'Readout'\n",
    "group_var = 'Time'\n",
    "overlay_var = 'Var1'\n",
    "datapoint_var = 'Subject'\n",
    "\n",
    "color_var = 'Var1'\n",
    "colors = {'A':'steelblue', 'B': 'darkred'} # colors must have a color for each unique value in color_var\n",
    "\n",
    "# convert variables to categoricals\n",
    "data[group_var] = pd.Categorical(data[group_var])\n",
    "data[overlay_var] = pd.Categorical(data[overlay_var])\n",
    "\n",
    "# create list of shapes\n",
    "# see here for how to make shapes for plotly: https://plotly.com/python/shapes/\n",
    "shapes = [dict(type='rect', x0=1, y0=-1, x1=5, y1=1, line=dict(color=\"royalblue\", width=2), fillcolor=\"lightskyblue\"),\n",
    "          dict(type='circle', x0=10, y0=-1, x1=15, y1=1, line=dict(color=\"darkred\", width=2), fillcolor=\"pink\")]\n",
    "\n",
    "visualizations.agg_plot(\n",
    "    data=data,\n",
    "    plot_var=plot_var,\n",
    "    group_var=group_var,\n",
    "    overlay_var=overlay_var,\n",
    "    datapoint_var=datapoint_var,\n",
    "    color_var=color_var,\n",
    "    colors=colors,\n",
    "    plot_mode='line', # switch from bar to line plot\n",
    "    shapes_to_add=shapes\n",
    "    )"
   ]
  },
  {
   "cell_type": "markdown",
   "metadata": {},
   "source": [
    "***\n",
    "#### `correlation_plot` function"
   ]
  },
  {
   "cell_type": "markdown",
   "metadata": {},
   "source": [
    "#### 1. make random data\n",
    "- ##### 1 subject info variable -- `Subject`\n",
    "- ##### 1 grouping variable -- `Group`\n",
    "- ##### 2 plotting variable -- `X`, `Y`"
   ]
  },
  {
   "cell_type": "code",
   "execution_count": 2,
   "metadata": {},
   "outputs": [
    {
     "data": {
      "text/html": [
       "<div>\n",
       "<style scoped>\n",
       "    .dataframe tbody tr th:only-of-type {\n",
       "        vertical-align: middle;\n",
       "    }\n",
       "\n",
       "    .dataframe tbody tr th {\n",
       "        vertical-align: top;\n",
       "    }\n",
       "\n",
       "    .dataframe thead th {\n",
       "        text-align: right;\n",
       "    }\n",
       "</style>\n",
       "<table border=\"1\" class=\"dataframe\">\n",
       "  <thead>\n",
       "    <tr style=\"text-align: right;\">\n",
       "      <th></th>\n",
       "      <th>Subject</th>\n",
       "      <th>Group</th>\n",
       "      <th>X</th>\n",
       "      <th>Y</th>\n",
       "    </tr>\n",
       "  </thead>\n",
       "  <tbody>\n",
       "    <tr>\n",
       "      <th>0</th>\n",
       "      <td>S1</td>\n",
       "      <td>A</td>\n",
       "      <td>1.576580</td>\n",
       "      <td>-0.391501</td>\n",
       "    </tr>\n",
       "    <tr>\n",
       "      <th>0</th>\n",
       "      <td>S1</td>\n",
       "      <td>B</td>\n",
       "      <td>0.469214</td>\n",
       "      <td>-1.229127</td>\n",
       "    </tr>\n",
       "    <tr>\n",
       "      <th>0</th>\n",
       "      <td>S2</td>\n",
       "      <td>A</td>\n",
       "      <td>0.070666</td>\n",
       "      <td>-0.862379</td>\n",
       "    </tr>\n",
       "    <tr>\n",
       "      <th>0</th>\n",
       "      <td>S2</td>\n",
       "      <td>B</td>\n",
       "      <td>-0.352049</td>\n",
       "      <td>0.264908</td>\n",
       "    </tr>\n",
       "    <tr>\n",
       "      <th>0</th>\n",
       "      <td>S3</td>\n",
       "      <td>A</td>\n",
       "      <td>0.559928</td>\n",
       "      <td>-1.887533</td>\n",
       "    </tr>\n",
       "    <tr>\n",
       "      <th>...</th>\n",
       "      <td>...</td>\n",
       "      <td>...</td>\n",
       "      <td>...</td>\n",
       "      <td>...</td>\n",
       "    </tr>\n",
       "    <tr>\n",
       "      <th>0</th>\n",
       "      <td>S998</td>\n",
       "      <td>B</td>\n",
       "      <td>-0.500282</td>\n",
       "      <td>-0.576150</td>\n",
       "    </tr>\n",
       "    <tr>\n",
       "      <th>0</th>\n",
       "      <td>S999</td>\n",
       "      <td>A</td>\n",
       "      <td>0.433775</td>\n",
       "      <td>-0.829318</td>\n",
       "    </tr>\n",
       "    <tr>\n",
       "      <th>0</th>\n",
       "      <td>S999</td>\n",
       "      <td>B</td>\n",
       "      <td>-0.727267</td>\n",
       "      <td>1.455353</td>\n",
       "    </tr>\n",
       "    <tr>\n",
       "      <th>0</th>\n",
       "      <td>S1000</td>\n",
       "      <td>A</td>\n",
       "      <td>-2.081743</td>\n",
       "      <td>1.164869</td>\n",
       "    </tr>\n",
       "    <tr>\n",
       "      <th>0</th>\n",
       "      <td>S1000</td>\n",
       "      <td>B</td>\n",
       "      <td>0.341392</td>\n",
       "      <td>-0.764268</td>\n",
       "    </tr>\n",
       "  </tbody>\n",
       "</table>\n",
       "<p>2000 rows × 4 columns</p>\n",
       "</div>"
      ],
      "text/plain": [
       "   Subject Group         X         Y\n",
       "0       S1     A  1.576580 -0.391501\n",
       "0       S1     B  0.469214 -1.229127\n",
       "0       S2     A  0.070666 -0.862379\n",
       "0       S2     B -0.352049  0.264908\n",
       "0       S3     A  0.559928 -1.887533\n",
       "..     ...   ...       ...       ...\n",
       "0     S998     B -0.500282 -0.576150\n",
       "0     S999     A  0.433775 -0.829318\n",
       "0     S999     B -0.727267  1.455353\n",
       "0    S1000     A -2.081743  1.164869\n",
       "0    S1000     B  0.341392 -0.764268\n",
       "\n",
       "[2000 rows x 4 columns]"
      ]
     },
     "execution_count": 2,
     "metadata": {},
     "output_type": "execute_result"
    }
   ],
   "source": [
    "subject_list = ['S{}'.format(m) for m in np.arange(1,1001)]\n",
    "ab = ['A', 'B']\n",
    "\n",
    "corr_data = pd.DataFrame()\n",
    "for subject in subject_list:\n",
    "    for group in ab:\n",
    "        corr_data = pd.concat([corr_data,\n",
    "                               pd.DataFrame({'Subject':subject,\n",
    "                                             'Group':group,\n",
    "                                             'X':np.random.randn(1)[0],\n",
    "                                             'Y':np.random.randn(1)[0]}, index=[0])])\n",
    "\n",
    "color_dict = {'A':'steelblue', 'B':'darkred'}\n",
    "corr_colors = [color_dict[g] for g in corr_data['Group']]\n",
    "\n",
    "corr_data"
   ]
  },
  {
   "cell_type": "markdown",
   "metadata": {},
   "source": [
    "#### 2. minimal example"
   ]
  },
  {
   "cell_type": "code",
   "execution_count": null,
   "metadata": {},
   "outputs": [],
   "source": [
    "visualizations.correlation_plot(data_x=corr_data['X'].values, data_y=corr_data['Y'].values)"
   ]
  },
  {
   "cell_type": "markdown",
   "metadata": {},
   "source": [
    "#### 3. minimal example with a line of fit for each group, color-coded"
   ]
  },
  {
   "cell_type": "code",
   "execution_count": null,
   "metadata": {},
   "outputs": [],
   "source": [
    "visualizations.correlation_plot(data_x=corr_data['X'].values,\n",
    "                                data_y=corr_data['Y'].values,\n",
    "                                groups=corr_data['Group'].values,\n",
    "                                colors=corr_colors)"
   ]
  },
  {
   "cell_type": "markdown",
   "metadata": {},
   "source": [
    "#### 4. highly configured example"
   ]
  },
  {
   "cell_type": "code",
   "execution_count": null,
   "metadata": {},
   "outputs": [],
   "source": [
    "visualizations.correlation_plot(\n",
    "    data_x=corr_data['X'].values,\n",
    "    data_y=corr_data['Y'].values,\n",
    "    groups=corr_data['Group'],\n",
    "    colors=None,\n",
    "    x_title='X',\n",
    "    y_title='Y',\n",
    "    color_palette=px.colors.qualitative.Safe, # use color palette if colors is None\n",
    "    corr_method='kendall', # switch pearson for kendall-tau\n",
    "    title=\"X by Y correlation\",\n",
    "    textinfo=corr_data['Group'], # add hover text beyond the X and Y coordinates\n",
    "    plot_fits=True,\n",
    "    plot_identity=True, # plot identity line\n",
    "    same_xy_scale=True, # plot the axes on the same scale\n",
    "    showlegend=False, # remove legend\n",
    "    x_range=None,\n",
    "    y_range=None,\n",
    "    text_size=10, # small text size\n",
    "    font_family='Times', # change font from Arial\n",
    "    marker_size=4, # tiny markers\n",
    "    outline_width=0, # get rid of black outline around individual points\n",
    "    line_width=5, # thicker lines\n",
    "    opacity=0.8,\n",
    "    plot_height=600,\n",
    "    plot_width=600,\n",
    "    save_path=None, # set absolute path including file name and extension to save plot (png, svg, or html)\n",
    "    plot_scale=5 # only used for saving, if file extension is png\n",
    "    )"
   ]
  },
  {
   "cell_type": "markdown",
   "metadata": {},
   "source": [
    "#### 5. Plot only lines of best fit with confidence intervals, and without points"
   ]
  },
  {
   "cell_type": "code",
   "execution_count": 109,
   "metadata": {},
   "outputs": [
    {
     "data": {
      "application/vnd.plotly.v1+json": {
       "config": {
        "plotlyServerURL": "https://plot.ly",
        "scrollZoom": true,
        "toImageButtonOptions": {
         "filename": "custom_image",
         "format": "svg",
         "height": 600,
         "scale": 5,
         "width": 600
        }
       },
       "data": [
        {
         "line": {
          "color": "steelblue",
          "width": 2
         },
         "mode": "lines",
         "name": "A",
         "type": "scatter",
         "x": {
          "bdata": "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",
          "dtype": "f8"
         },
         "y": {
          "bdata": "iEeoiKsJtr9+atZEGvC1vwgCg2pp07S/ucwisQewtL/MfZWh+Xmzv5MZ7HD4GrO//N5OWoLwsb8sM4ejDYOxv3YYjgwPNrG/ehmSMBXkr79aR+mP07qvv76egh/Xca6/DAhbAIHwrb8oCoBxFqCtvzjtthviiK2/oiVl2g3IrL9Up14C6qGsv7CrxkrH0Ku/urmG1eVZq7+qIXs3xQervwqDuz8TfKq/NppL5RgXqb9KrQblYXKovzhiytUIC6i/egT3ErQbp7/ua1YA48Omv5xEzddBhaa/Jtc42U44pr/UhOBLdf6lv1jd587BvKW/POSGhRxMpb/ELgSeWkqlv/wa7J7C1qS/2I6gUpqBpL/cK+b1OnSkv1wlxir7MKS/7rvYYJUNpL8Kap8Lqq6jv/qffuH/jqO/HKh6/6t1o7+SId9T7Wijvw4MxHlhL6O/QKhjTnQro79U/ms6742iv/hEwZ84M6K/cCblq5HTob9IVbjzkgShv9jR3sQy7KC/wKbEfhmUoL8aCDlf9Imgv9yeCyJt5p2/CGdOtHfYnb+k3TeKqMCdv2g2syO6qZ2/YEPwprpInb+wR0ISm0Kcv/I4ufmJHpy/NLAb06cBnL/q9scGCZSbv9A+EpZLMZu/6MzArT+1mr80xTgWvoyavzzQGUANU5q/ljalMG8/mr+O4UFy6A2av3SW4G0Gwpm/2sB/uOAumL8sispYyAKYv8AkZyKN2Je/VtON2ILOl79+/MOJM6qXvw5UKcvPLJe/svjzG68Il7++mvFL5AKXv9SQgS1Yv5a/nLjILra1lr9egBAUH42Vv4RujRcjVZW//oYJIklRlb/aTi56EkqVvwg5L/X89ZS/6In0tXzwlL8iTNynQoqUv3qfrhh5aZS/FDrXYFhblL/CKEIfsQOUv47zu7Ni0ZO/rIWxICGyk78sizDpIp6Tv6rolPFldJO/wvwgAyprk7++JTi6xlqTv0aHppihTZO/xARIBUUBk7/M6mbe1+aSv2ZVSAgen5K/6Gc5Ocvvkb9S2iD6Zt+Rv2JdGRv1uJG/0kGGLkukkb9KwITyb6GRv0x3W8kpnpG/wmpghhAjkb9KXa8jmRuRv0LlQOM/55C/qGv66JzFkL8kev+8tZWQvzL9wfsQfJC/tA/91MNTkL/q1nC8UBaQvxz3aSyknY+/lD7oAV1Kj7+0xNK5SP2Ov8BUpjeXMI6/9Jm3bR7yjb+s5zeC0kSNv8BZGrray4y/2PzZ3P6MjL/Mz/j8n3yMv1AhJa88+ou/jG/lnUjyi7+05oj9v6KLv+ydxly08oq/SClNS4+oir/oPRiCwZaKv+SWenSDjoq/5JBTqQZWir+IkDW3yzqKvyjN8insjom/pPcXTENtib+4WSYhjVWIv/CVdrPLKIi/jLknA/XSh7/UWVCH1cyHv3hYChJX+4a/zI858vCfhr+g5EQQvIaGv3y81bjqDYa/aFSuHjkrhL9wyE+8jmiDv3B9Nc6+ZIO/9ABOesKggr84l6BzVmqCv3QwtXieM4K/MPyI0fHmgb+EqKHTdJSBv3Bp/PjndoG/bP2kfDkTgb/445LkYFd/v0i76o1j032/sLNVV1uqfb8AZp/IP4R9v2Ba4gsOC32/iE6/Ai0Jfb+4IiIpruZ8v5iL6Qcu6Xq/4HafxtKYer9Q1qKQQxF6v4gTTblx93m/+PcJt+2AeL9Q5NWYWVx4v4C6/fLdIXe/IDchICikdL+4t88REU9yvyjoA/GFP3K/UAXMqpfpcb9o45wM19dwv2DfDhrllXC/6FIpDRJ5cL/gUhFnRnNwvyBQaMWG3W2/4OmO+Jiibb+wLQJeUgFtv2AJpSbT7Wy/4Gjc5i5Sa7+QmuBy7rNqv/CNnPmiHWq/AMUBjj1haL+w/PPxmYtnv6C00Q1qJ2W/APXZvt8gY79QtFj1SyxivwDgoA68plu/4JqeSpHiV7/gs6pqOrFXv6A+QqIXzVW/AEEPlD9JUr9AHpLqhkhIvwBUV/l/1UG/AOoZ9oYuOb8AHpv9lH8xvwCbHvNLqzC/ALjgwMi5G78AeLJuYK75PgBSYiNMry4/gMQGsmoKOD+AalYetdE+PwDOtyKuSkQ/QBA2o9evTz8gBujFvM1YP2BbC/0l81g/IGaO3wWgWj/QGHQax5BgP2A74uil3GE/oIvYt7LUYz/g0BqiTWNkP3Dk8mklUmU/4Bn4wuR+ZT+g6bWSNrdnP5DJCPp5+2o/EENXuR4ybD/Q8PlOOHJsPxDGSr0enGw/sFaQuCtebj+YNuguaL1wP4Q8j7WEpHE/CApQxScVcz9U6I0qNBZzP3ipgSSRO3M/0ABatlGlcz8cJk7i+v1zP6ytqJY4XXU/lIN9ZtyAdj+gEHllq552PzjnLhIV0HY/9KxlELD4dj9Y0HRqyoZ3P+QogqPoCHg/6ILuYkNjeD9IFyZhPF55P/Q0krpOink/BADvnNyPeT/McW1RzaN5P0jCjxgjMXo/9O73di8Cez/MFyeVNSR7PyRFzXnWQns/lAWzLR8XfD+UwxN2ViJ8P0wxZ4NzzHw/8JVeZnE0fT9o9vWKKUB+Pwg+mngfSX4/kNjRj+OIfz+cBJSrAsh/P7IOO+iJZIA/MMw4GMuXgD/Koc7zcBGBP7bjlsZ5MoE/JPe+x8UygT/q7Ktppl6BP+R+mHSnn4E/YFFVeuS/gT/IWT+hGhOCP7SEokHGb4I/iF7XeF+Ggj9UmktOTYuCP6LOTy5o3oI//OeGc2Msgz9cv+cGpDuDPwTiCBco1YM/ugB/fGntgz9WehzBvlmEP1CY5uwkaIQ/DovFww22hD+ITElifL2EP2y7PsjtXoU/IIpwDopwhT9Uzvl1RHiFP5DEgV0Si4U/iHqNi1ighT/s8lH13piGP6w+kFd2fIc/PkfFMtKxhz+++EJQ59aHPz5do2ZkO4g/XuzlfWNDiD/EyMefJC+JP6qwLNC9aok/OqD6oGSliT+SMtPg+reJP0AfLKHjaoo/JNjDqRPhij/Qx1v15+mKP1wpDJkz+Yo/oBWlxFSAiz8IL7UzVmuMP0htnilab4w/dH8BlwewjD9eTyMhDbqMPxIYgrHV8Yw/8ES0J8aVjT/Swe/rJ7uNP3K6oDQYM44/8vUE1IuAjj9wZgcCjf+OP66KNF9ZEY8/WL9VapUZjz+McIetslePP3oeHYfFeo8/HCCfdheEjz/3V/7VcBOQP1iyioHnQpA/094EWuaMkD+Qd0ZbBq+QPyWee0yP1ZA/w6wP2toOkT/QHquM/DGRP+rlTgjgTJE/N/lx4YeBkT8sPgNwnISRP9Pv+CuPkJE/2EB5RlawkT9gXaLh4LWRP9AFcfzYx5E/ar7rHL/VkT+DC3RTDfKRP9MliyG+9JE/bGnHZwb4kT/YApteRBGSP9kYK0zUP5I/evIa0vTEkj/Krbh1BtqSPztKhfuc/ZI/WGjtpJ0akz8hTgVwukGTP49wjuAQX5M/vn4OCAurkz9UXlLhZLaTP5DCuHmb9JM/iEZKMbz0kz9oQTnmxjeUP5bwK/kkR5Q/1FG9MxxXlD8+qPPRxm2UP9IyPYF1fZQ/OCmyYlyHlD9O7AgqR4iUPzIm2EJQpZQ/cDDDOOr0lD/7LKl901aVP9x5Fl2FXJU/nAl8iVNklT9ZpH/p/3eVPw0U4z8MepU/dh4zwapTlj8utzV4LmyWP1oVGgt9g5Y/2ek1ns6Klj8xnQeD+amWP/BkqGNNw5Y/d+eRMWLKlj88olDVOeiWP04fCRxqFJc/cKyKfmEklz/JdbKNbliXP3YJWuqwWpc/V9YQMutolz/sP9+RqWyXP9DGyrnybpc/Nh/YPM97lz/BbjqBmpaXP2ThIwLkm5c/Vh1IDLa1lz+5QT6yqrqXP9yisZfryZc/gC7euATWlz8E1xwS/tuXP9SXbHYU3pc/hNMsYsbhlz/aItaS//OXP8p4QkJgApg/BA0xsKoKmD+YLkUcAUWYP3z6VjalWJg//zH0kiZ7mD/Elq2pSJ6YP8b3+xgTp5g/BdsRKD28mD+EROLcHNOYPzqEIix/7Jg/z5HUNPbzmD9a95Uq8yqZPxSBXxOARZk/pD/BCV5NmT81uRPUVk6ZP7GkQqC7dJk/3xUEl5F6mT/qgCXy2qGZP/9y4jCPxZk/LSFQqBjjmT/4/LuBlfaZP+24FX1PHpo/viwXQZ0qmj8ScndITHCaP1axNLQXepo/Mgq5kq+Bmj/SkIDTt5yaP123MkHpp5o/yEgbI1i/mj8253ZWHAybP9/OmtwEU5s/zExbV1FYmz9SSmBL8FibP3DE9ql0X5s/LN6jNqdpmz+2N62Y8oCbP7Wm6+1AtJs/lGblFOm5mz/W1WtjtdebPzn/Owie55s/i0Bx/QD4mz8OOD+JTf+bP2F7VISPGpw/OPxkVbIdnD8JCKLVQ0acPwXpvXKUUJw/YJTImflfnD/E4/hDLXqcP6o3hXODn5w/BFgFTzWinD/TJngGK7OcP+TOYBYt3pw/RoClBcjmnD8EsAQHwS+dP2Z3QShlfp0/diOkSV+NnT/NPlfrEaKdP6S78NiV2Z0/dqCVt3T+nT8qPdylnxaeP/xsPGxBaZ4/ucuqeuyAnj9WLTCqBYaeP1kXHO4w2J4/6hKQ3+nYnj8sC2DLT+SeP2XmsqwO854/zFuSffv3nj9bCgbxaxufP4C6Yaf/L58/pInb3cOEnz+PIf8lBZufP2zlrpM6n58/ms+KJkOwnz9Q67Mj9befPxihab+avJ8/uZcS/6gEoD8a7u2XPg2gPzGwV9zZFaA/5+Pph/EgoD8euJZ3iSSgP/tkMcdoOKA/e5na7pBLoD+CjA8lSU2gPymaf84IUqA/Ve9EPwFloD/xcguPuWygP2hm7rklhKA/n2+osBqToD/KLUNIsa2gP6sB0I8DtaA/wJpAr0+1oD9+Jv13q7egP4soqRv7x6A/4Tz548vJoD9J5Gw/JsqgP95Cm0uy46A/KF4to97noD/PEfN7a++gP3fVxyZODaE/tI6nHzoUoT/vSJmrMhihP5xxNFTzHaE/MbmH/vEioT9bKdC/Ij6hP49xcY7RU6E/JbQTS1BooT/qH+2O4Z2hP8RDv+N9pKE/6F5C2xqmoT8Frsg1P7OhP+WNzUY5yaE/pSwxDkrKoT87ZLDZ9+WhP+cR1pOV5qE/DE7IOdnvoT/h2VB5c/ahP8lQYaFoCaI/+mJKp50Roj8PPJPfvBSiP3MRqU0fFaI/hIHqcqg2oj97SDKm1zyiP4wcgKT3QqI/XUKkwRZLoj/9wLCBJlCiP7pTwbbtU6I/dtOrychioj+Wfq0ezIKiPwiq3R4FiKI/URSx9faKoj8nKc5HS4uiP2rK5PAbkKI/tWgUDo3hoj9TxVj3UfiiP2r5GMreC6M/jZBK5jIioz/HSu9UD0ijPz1zdhntWqM/hE6uOD9ooz9E0nFDBXWjP5aGXK+8gKM/rObrz8KBoz9JU7daj5CjP/JjGRxGnaM/CS7ISLqeoz+UYqN15bWjPw6+8FC+waM/QLrSC7fLoz9hW650t8ujP//SGqo+z6M/hlNSw43Uoz81uUvorNejP/ymnrEZ+6M/d34Xog0DpD/WALF9zQqkP+AcJapvC6Q/G6p7UPsVpD+zux2YYx+kPwgFAuXiMaQ/ijNnS7RBpD+PBPxCQEakP+/obPaEUqQ/+e1dRqRZpD8VnmckP2qkPzMAa6s2haQ/jn8geBuHpD9a0pDmVomkPzb4AT9tnaQ/5peGGfGrpD9K4frpubCkP+WKaRsosqQ/VGcH/Ga3pD8VIn20urykP+G/eE55v6Q/LV2TQ6rSpD/tA3rEstqkP/o1TbAo5qQ/4JNKqijvpD/s/7o7DwilP+6ZqdDZCaU/JmreCF8OpT/SVx9+Nw+lP8suJDjUE6U/o2vqrLMUpT8Cvi9znjGlP7LeNIJqOqU/G0lfWAc/pT9A/MiQaEilPyxmaF1/SKU/0+X1J5OQpT/vWIksB6OlP4BpsRJvpaU/1rB3/LqopT8DmetDQs2lP4ivAFkyz6U/B+6tOa3WpT/aV4oGJfilP3T3oU3zDqY/O74EMQsxpj9oHQnfnTymPw4ifQKAX6Y/SoxbFS5gpj8FOR1Q13emP8hALBS1eqY/Qa6U74CTpj8J4TSrz6SmP/pJKGN2r6Y/kayxvIfDpj9bgCBrUsqmPyx1j/KL0KY/MYNe/Pzapj+0Vk9rK+CmPxDDd0KF8aY/jy7S1dP0pj9be5IU5QOnP5byNCu+EKc/JnT9r1tMpz9sxJm5Bl+nP8yebHaDcKc/q9qwi253pz9l3E5DlZWnP51xeaJLpKc/veCe14Slpz+p5S0w6rKnP4L6YtU2uqc/QopMnE27pz/dfCUk8r6nP1SmsfWOzqc/rb1M1CPapz+V3dipm+SnP2drNj7m5qc/ee/jn43opz+mtsf5dfCnP4bODbW6Cqg/CYgUqBwcqD9c6k/qoh6oP8KAx+q+TKg/HPCR4oxkqD+uMBAN+m6oP8a6k/fof6g/0VMmkkaTqD+OVQW/ypioP0JRlkUFmqg/6v0fPRKgqD8M3u4+DqmoP4fqHM33yqg/N0kwMV/UqD9yDon/qNSoP6af7/RO16g/vd40GkjYqD/PGqy+r/CoP2ZAXJ/296g/U2xLgjgIqT8CfyxkyRipPx6vJWB/H6k/StfP4c8kqT91KCSUaiupP/iEcfaTOak/Aezp42U9qT/+asPGtUepP04lLog5Sak/cKmnWJNLqT9amojI2UupP3ZxhIlLVKk/PN35vOlYqT8ItHtzLZqpP4Djw1OHnak/bJ3Y0DnIqT+mhDwQzOKpP4ic9QYz7Kk/YOR4Zv/xqT+23pAyhPSpPw4eAUfyDqo/Cx8rswEYqj9gpQRLEBmqPyb/kYmBJao/ZXMGrRIzqj+LMnyzf0OqPyz8y7xORKo/fKCAWetEqj99kZ6JMUmqPxwYFd9tdKo/+EF5V6CBqj9Yw0R5G4KqP74j6frIiao/a2VsJQ2Zqj/iwJ7+h6eqP5L1PphAsqo/3AQWBivIqj99ebfbiOKqP5ha0+/e8ao/XkLFHmf6qj/U5jVmCwSrPyMMqG65FKs/lPEBP8wXqz+pajUqRxqrP8jKIXP7H6s/8tu1WpFLqz+QMYXRq0yrPyxwO0R0aKs/nJZWdWtrqz9kAm3Ek3KrPxBZXjwnias/fqvsqZWRqz9c8hRSu6GrP+zDG0wHqqs/KPvoiZ+rqz8Q5nZb6L+rP0W364vxv6s/7AqwJpPVqz+uiShLNdmrP90XXqRD3qs/1F/Oekbkqz+Oo8BWyeSrP4XHamgg+as/Jme/xDUNrD8I9aVv4A6sP8pbJN6ZGKw/rWYN+eYZrD+P5yD/physP+ZGpBZuHqw/GLg6I4UgrD8iDlN5pyWsP8LASp6PNKw/JB9EC6U8rD9FrFYtCUqsPyHEGaOQTqw//NksjYNYrD9zzZ7GE16sPyTbw2aqbaw/kzHT8Rl5rD9kTH37BIysP5UyxYY2lKw/Dnh4R5iZrD8gOsaN+rCsP2mzgK2xy6w/OP6l/GXSrD/u8dmHRA6tP+Q6L9hVFa0/Mpe/iHkVrT9wEPLWCBetP7KUa1KmF60/sqM7e1IzrT9WHcwGuj2tP0gBfXrUPa0/K0S0lgdGrT80JaKvgVKtP8/5M276XK0/yh4+XVFprT/pWpHy8nytPx6puvmvia0/aqsSI4WKrT8Yf0fVEpatP6xQGK09pq0/bCK36kvKrT+MFDz/l+OtPzrqnKbN7K0/2gI1lC0Grj+4CGDYfB2uP+omTztyH64/qJBPFmYmrj9dj4ZKPCyuPwIN437rM64/rAEr3GJurj+kpmmyMJGuP0D6lsiUnq4/p++Ba8m+rj/wA7czc8GuP1jQMgkaw64/yEDBC9jErj9TVulyL8muP9na01vczK4/MLoO5jvUrj+gvVVnXNquPyhT4DFy564/IIxbPQTurj8YgZn7XwmvP26leAVvHq8/wKAdlJIirz/CoC5IhDevP8A9S7MTQa8/ZsnmrGJGrz9sNFnq61OvP4/y9khSeK8/tq3ecWV+rz/MUoT/Y4SvP7YkEPJ5ha8/tvhIpLyPrz+lYodQOZWvP7LwEKmml68/lha4XMGZrz88Thcbx5+vP3A1n9ALqq8/qGHLvgqrrz9cMjmykLCvP306+2vt5K8/kx816SUGsD/lmRZcEg2wP4oNxlXoKbA/aDBDB38wsD+u8JlX7DOwP3l2Zh/YPrA/vSHeQmVCsD/fFzJyzkiwP7JW/PX6TbA/siDdvT1dsD/sOSoF6XawP39wMXQqlbA/pdB0t3igsD/AGTXON6awP8fn3GwxrbA/4pUrgk+9sD8pEB2h79mwP2KqQRELBbE/ckIxWOEFsT9uWSaVoAixP1lv03NRDLE/J2oj/LgOsT9wvuwRRh6xP/AHpmbXILE/y4/8yTw7sT+oEvADFWOxP3I+4Pu8ZrE/kuSDcBdrsT+AXb/aK3WxP6DVSX1YdbE/yvQ25ZN/sT9Lzbh2XYGxP0zLlIf7hbE/foht1oW3sT8f3as//8GxP53Znp7azLE/MEcjrLTNsT8CejImX9exP/6ApR6Q7rE/2ituaPfwsT88LNERAhCyPwAW8lIbF7I/rYcgo8Ebsj+AHtKlER+yPxA2SwydKLI/H0qyYjUrsj9F60O9jTCyP2AzvKvgP7I/HVHRFoNFsj/YyqfqHlmyP9wRrhIPWrI/wVuSAHBssj8ETusMoZayP7Yl10xvorI/qmds+ueisj9cIFk7i6qyPwXndvotuLI/AF85Cvy5sj8GBrKvJsSyP/DoFWLnxrI/klAuBMvdsj9XZyZ1g+uyPwQaE8Ck7bI/5OpjY+ftsj8+mxZ9fvmyP8KGMJlLALM/CDtOIUUDsz/LufLPSQ2zP7VpXat/IrM/sOM2fvEjsz9CwQqxaCWzPwYhegrXK7M/7q6SPmw3sz98WyaBo0GzP+l+E83KfbM/yOfQLVyJsz+eI1TaWoqzP97DC9LQi7M/kAqIr76Osz8OBgtAyqezP6dFuN0xqLM//sUqmVeusz+rIDfa67OzP8QKfF+EuLM/xsH5Zf/Csz/cdIoUZMWzP6S+uj4SzbM/Llz7mRTXsz/qWPFbQ9uzP7j1t1xG67M/ond5QVv3sz/A2iLNqja0P0qBa2nxRrQ/8gwRdpphtD/geQl2JWq0P7YNm1jdc7Q/kpC7ha+CtD/c1U9sqpC0P6DqaoX5lbQ/3qIrzSyXtD9LP3tUCJy0P/bfAH+un7Q/wnyAdY+gtD9AvUTYU7S0P3B8OpOsv7Q/VQZ/Ic7EtD/waUknHsa0P8gMbOAj3LQ/Gpol8SvktD9en6sE4fa0PxRo90/ALbU/qjae5lE5tT+PQW3xQju1P3TqNRumUbU/zldijlxotT9OTyPyDW21P2W2awVddbU/kseXoKqOtT8C2cvMTpS1P5j9zYcKn7U/PLf4Q3+htT8n4+BKjqG1P+qLldJMrbU/74gR5VbLtT/AA2flRd21P+DdRsQW4bU/BL6u68cBtj+mb7Z7Bga2P3U+cbbWB7Y/FWUk/DAetj/aGnPD8Sq2P+yByymiK7Y/dvyloik2tj8HN68qa0m2PzpT7Uk8UbY/SDt07JxVtj+2/GoaEWC2P70uucuRa7Y/lmCe2ptttj/Wg8iUgHC2PyFi1IEoiLY/UkuTInCLtj/oQMISmJW2PwtBvDGQqbY/Sjo//qqqtj9TGXQV98K2PxDqhK/3zrY/QhOjckf1tj98Rg+VPfa2Px9UDI/AAbc/gG21gfEGtz98EiIIpxu3PxYECOKLM7c/7lyN1LE9tz8qK93hWou3P7cQWbeborc/z+FMkWawtz8W/e6XPLW3P66e+w5Svbc/8UBzQNrDtz+vDBrCSte3P4ZrqjcN9Lc/Rjky3WoOuD+rCtdxDy24P90//c6cbLg/4cW3V+OQuD8w+beynpy4P1qYDGKzn7g/dEAExXGguD/MYxAZPLq4PxU7WcmV8Lg/wwQ5piIHuT+WJJ3Mjwe5P57A8TcSErk/mBwq+880uT9GVJFsHz25P/SpT4lmR7k/AquIdueUuT+d44V/MKK5P5G1H9n1ybk/t6Th5frRuT+V3Hqe++K5Pz0fW1Ix+7k/CTwy1af9uT/P+RJpBia6P0KfjqVdLbo/zAcjAxyOuj8d3/EckKu6P7l6cgzGCbs/JAriE21Luz/OuBXJ3GK7P2AsEk17b7s/woEbgXlzuz/drBYR/pO7P2bBusHzw7s/OfJT10nPuz+ILvsUEt+7P1+x/wFw5bs/xeO7+ib4uz+M/3XzcTq8P0d28/V+WLw/MAopYyZpvD+q4wtOuNG8P6NP7orGLb0/0mTTPTBBvT9eIJ4wQUS9P6FEPy1dmb0/n01LLhwlvj9qWQWh5ku+PyR2tmrqYr4/jShRE2CLvj+Aqrn3UKa+P5SP5qZo1b4/xcxlGRYEvz+nMeuVjRW/P4hvQvlSGr8/ApZ9vxUzvz8e9Yld5qO/P5ZC5ZsmB8A/dghWO3wRwD8o7lXXSkHAPxawJOHLM8E/eCI2SbyXwT8UG5DrAO3BP5QB3Nn1SsI/ekwxrNDNwj8nEs7zQBXDP9oQgjIY58M/VEajRAsaxD+yKcnkj8vEP8Kzcj359MU/a9Apudxmxj8=",
          "dtype": "f8"
         }
        },
        {
         "legendgroup": "A",
         "line": {
          "width": 1
         },
         "marker": {
          "color": "steelblue",
          "size": 0
         },
         "mode": "lines",
         "name": "A",
         "showlegend": false,
         "type": "scatter",
         "x": {
          "bdata": "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",
          "dtype": "f8"
         },
         "y": {
          "bdata": "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",
          "dtype": "f8"
         }
        },
        {
         "fill": "tonexty",
         "legendgroup": "A",
         "line": {
          "width": 1
         },
         "marker": {
          "color": "steelblue",
          "size": 0
         },
         "mode": "lines",
         "name": "A",
         "showlegend": false,
         "type": "scatter",
         "x": {
          "bdata": "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",
          "dtype": "f8"
         },
         "y": {
          "bdata": "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",
          "dtype": "f8"
         }
        },
        {
         "line": {
          "color": "darkred",
          "width": 2
         },
         "mode": "lines",
         "name": "B",
         "type": "scatter",
         "x": {
          "bdata": "5PA2aKs2CcAZpv0jSNEHwB4TFcr43AbAKl+sEI+KBcAC6lY4oeoEwJkzBNVnHATA8kCgabjKA8AnwLdc3EkDwHUhm0kUdALAwUhTaCo7AsCY7rBWzKsBwEB9qfujfgHATza5uE1fAcAHon2IDBsBwECWQP01FgHAze/fnyTUAMAkMNb6/noAwI8EFvjUdQDAM6RZ2RlkAMCNSh+dgUIAwBgoX9e+DADA5MqwmuUEAMCRS8r9ggIAwHyGhj4a7f+/FOVxHvre/79VshtrdEH/v/3xXYfNy/6/9iZJ3Tp9/r+Taj7hYLj9v6PJkwS2QP2/rr7W0JHp/L/3JnpcM+f8v1zCzUHy0Py/CWFmWSl+/L+/rKzVnEz8vyUY0vlaRvy/SyRX2ikg/L8LmfRo7vb7vzlUwv+c1vu/NwJBgJ3T+7+pRKA4UaT7v7zrZefwkPu/P1CAzq94+7+RbU4aE1/7vxiRdUvwWPu//K9SVSkZ+7+LTIcoPQj7v6z4y3VGxPq/JXKhFmSz+r8Cns52RWj6vxL665BoR/q/WQLDjjQe+r9gjKeFp+35v9anGX4M0vm/gYQQ/I6E+b+ksWZ1hU/5v9j+ODaYR/m/jcUHphIj+b/aw+sz5Rn5v9FTsfcsDfm/R7Q81dXv+L8zKipNadv4v8q+0lctlPi/gMbntzoi+L+AltF9VeL3v8hO2Q8+3fe/UQl1uczQ97/LWIS2HcD3vyFaJDZ8pve/UMReF6Sc97/58mw23ZP3v3I76Lkhhfe/0aYlv3Nr97+Ey7S4BRr3v+IlaumWCve/j8EYxUQA97+a8VHOMen2v2xiof8fz/a/8OnJVDid9r+eCEftonT2v1QWwrd1Kfa/A3JuoHMh9r8XB9PYOvL1vyHfZWAc1fW/w9Z5WsPT9b/n+hMsFrL1vzwaXmxFmPW/oaF8/r+B9b9u4f7BJ+/0v7ixhzMEwfS/QSkbmJ+j9L+MBPLGNZ/0v13tu1FakfS/CKQeG6Jx9L95T36EZkH0v/aihHMgOfS/4oG7Suox9L81m7JDoyv0v0Ix7Y5QJ/S/vnGI+l4j9L+/n7zAQwv0v22v8n2M1PO/fZXlPczS87/NColjrpnzv4tYSoYlmPO/Ip+1AeKV8792DiurWH7zvyya/Dt8XfO/lO+rY5VO879ntga0fEDzv1oy2vnNLPO/jbkTZy4n879L+ED5PRbzv/cVIbHlDPO/PQnvaC7l8r971z65qOLyv+o2yLBe3/K/7HbDlKnW8r/YB+uZDMryv6LiveGrovK/3WJPYE6c8r9WO7t3q4/yv2ThsXHLUPK/LSntaxEc8r+aD3SFjxfyv+AEFvSSC/K/KeHjfAYG8r9rqQqPHLrxv/v6nUeFefG/Qhnr7lR58b8Oupspa3fxvwYwv98EbfG/YuW0xKsq8b/OOZwqrSTxv4lPmHo9CfG/knsad+P98L+21Gw6Wfjwv91QInmf8/C/pfdBJBng8L8FLQ/ZGdLwv/hNmP3CyvC/EhIEhUK38L9PP/eI1LTwv4XmSifGofC/51Q5jExw8L9wXC0DMGjwv4uRCUFlV/C/fgQYGTlL8L9s8iLBXkjwv5XFURlhRPC/3Wrynt8r8L8sOGbyEBTwv5kCQeHoAPC/lDnMavvz77/uBbHIj+bvv92mD/J22u+/uctFnTl4779HCWRtwnTvv8wv2iuyYu+/IugDtF/+7r/OtoWbPvnuv+XHbLo7we6/yyanwzWk7r8YF0uPTJHuv9li5A7cde6/X2LR9yNC7r+gnXQtAz7uvzIjK1+fNO6/GVFKpLHs7b+SYcB4Rtztv1khGVYL1+2/bPiwFEDF7b/dLVx282ftv+fCyu+pUO2/8x+lWbxL7b/mi6WLYwntvyNHA+GxAu2/kLGBAMTq7L/Vq01sF7bsv2v+IKrytey/citeWg2s7L9oH4HPT5jsv217X+iclOy/dDzv0WqN7L9QTCI8W4fsv+IVEqSHeOy/V7H00jol7L+dryq36N3rv7TLXKRNvuu/tLAGcP6R67/ft1vyvXbrv5VUBkWQcOu/srSPxusk679G77s9LCPrvzOFrf6BH+u/sLHXAkHF6r8W089GcbnqvxJnn6Dnhuq/6mcSMOxh6r/J7RaaZV/qv2kqqunY/em/YeudFze16b8sW+85UKvpv6xt6YYzpOm/Cx4ZceBK6b8/Df/ovOjov4jqNcwUpui/u1dcl9CM6L9RkWw351vov+2LQ1hBSOi/WxC9j6U16L8gchQGBO7nvy4dFQKjtee/j8eo8oyN57+r28q8k4znv60RRmvmZOe/kgFHq8VF578Kjmp/IyLnv9czVn67/+a/iO8Sb+e15r8gJYnDMrXmvzid4Eczsea/8NZUe59L5r82T7d+/0rmv0+HHwmpG+a/1Gtp2SEJ5r8PqiXJUtrlvy1BjSUa2OW/+jWXEVWW5b+3kZjm75Plv+XvyVTwfOW/RT0y+HZG5b9y3IKXLzrlv4jDAcunM+W/CMRJoMcl5b+5I1BqvtfkvwuHzLJWtOS/pfKDDpyH5L/9hKnNpW7kv2VK+n7gR+S/YtNntVgx5L9IPOFVZvrjv8Q3eXEP0OO/BkgIff3L47/NKB7wZmbjv7S+ogYEYeO/8dVjvCNU47+67afBhR/jv6ctlInsCeO/vAl8rfrt4r/CFznb5Zniv8QDES7UdOK/c2fv13Bq4r8ItDZKjGDiv5vPjgIqU+K/uTIYeYFG4r8AGCS5hjjiv9KNFiasNuK/04TAGL0S4r/sDGECOPbhvx2tGQ3btOG/WYT0FzOD4b9EzBXXvH/hv9hsGS5GbeG/ZS+0VHlS4b/8UW/jb0Phv7duDIAaJ+G/a2jVWQIZ4b/oFsSYlhHhv84DfabB5uC/HdWgABLm4L+dimIOFcrgv6v3iuBYu+C/arX2zpC14L9KWojRi67gv6ALzjzbfuC/OZ5Rnvxc4L+RJSJU21vgv9ShnFbvPuC/wMqiyXU24L+/GdZh8i3gv7aXo4QLKuC/cSSNdTcK4L9cxVVFUALgv/1ra7yh+t+/UlMfMlff378dG5tTkZTfv0gLpQWVit+/iwrqEQRM378PQPsnI0Dfv5OSpyqHP9+/uGjUGW8d37/FUvUTibzev8KzmN13md6/0+KNJxGC3r+2e0Euq3Devzt7Nlrj8d2/aI9Sd0vh3b+5Cde6I7fdvyjiNBeKmN2/pIKvnY5m3b81DGHE42DdvwqrRnOTTN2/ClAoTKPJ3L8KQWDD3pvcvxdnTKGlhty/1pS1BgGG3L9la5ygal3cv/fGsUXPMty/HqYSRzjo27+ZwHV66orbvylLzeRuY9u/p6ROhQZa27+1qSR3wkPbv4avlz7wNNu/x5CIPHYu27/twuuTGyzbv8wvziKSwNq/+UZVTE652r/sf9dC8wXavxbNoMWz/tm/fdJMshf72b/yKsE8oHHZv3lG4fkzMtm/jLccX3QA2b9IR72K7YvYv9uW4/oFedi/+5k3t8FG2L+2v+kYnELYv1OF9JxYQNi/JV+Rxsk32L9VNFBgdvjXv/ubRJCI79e/qI5lPCTI179a05jCibrXv550LA/5jte/pNA1r2Fv17+ikJhAbzXXv8fOaY+L7Na/dqnpZDDi1r/KAl+q0d7Wv2qmhS7Luda/qxVr+fmH1r+9S2qyAyTWv/sy+xQS/tW/sss0I3HV1L9BCmq8fmLUv8xULuZiB9S/tb5wYAzu07+7Hxvxmz3TvyE08bOeMdO/rWSbzMIt07/4UfSyWfzSv4b9UwQz99K/xN+ZUKTF0r9oY8PIvKfSv3QbYSqVj9K/qq4csjuK0r/j8zH7S3nSv7Peh6PLaNK/BXVw3dAO0r+VPAHrUfvRv2A4lz4PmdG/oadlCGyL0b8XbARlo2LRv4B7XQPLUtG/gIQHHGEN0b9aPwGg4vTQv/wjuVtPytC/bRWgoVC60L/Jm1I4jLXQv8ospsY0atC/ATqaTZIs0L+k/0QrsSXQv12thLqa5s+/iLJaEmXEz79NlQe0hsPPv2t8R3DM3s6/v94xYsR1zr8GOYFV0VzOvxlzB5pyVM6/RU85HSY4zr9LLjGZeDDOvwEk2BqUH86/V+OlJ+PLzb/4u2XmnRjNv+/TPYOp98y/dqmwIzXbzL9mxVziIcbMvzpj73+flcy/giaGy8+UzL8qKM7Es2zMv11rBsOMX8y/yFkuh0uuy7939C509E/Lv3BAkh4Jqcq/38q5XaKJyr+mKFTJ5VXKvxNiH6gNKsq/piyPCQfnyb/Wpm8bD+LJvwYhu88PN8m/DQsOOMYuyb9Za6rFM+/Iv5CnZrtwMsi/F1NL2yPax78al3fVJ3HHv46p8zN8Gce/klVekJz4xr/3CQE3i+7GvyKDYJxNyMa/tvCZSYBvxr+xQXYkrlzGvzwPONkUUMa/j2+HG18oxr+WJzebofrFv58YBKyymMW/ZEZhRiuPxb8q3lUffm3Fv3cvKdp7bMW/cf0ts4RBxb/v5/67RRzFvzfFEph6+8S/rvoCOZ3zxL8Y+RBrSxvEv+IAxxtxBcS/Wpb/L+New7+hYH7+BgvCv+j6dX853cG/vRMV5xMzwb8fvx6WhfPAv8ndlBi3ysC/7cdNGWMBwL/QGb2favO/v9ys1z5+C7+/ZovRl1D/vr8idjEPaAG+v8wBYyTX5L2/dF38i9MFvb+IBe9F8/G8v7miOFhFZ7y/tGXcQOzbu78wCXKgI8K6vwQqDBiyr7q/nA1o5AQJur9dNUclUuy5v/e2Nm6rjrm/8YwIZOS0uL8X8noEcVi4v1X2ukjxGre/xlsItZEttr9Fub3/lLW1v+4ecHu0sbW/EzUWF+Zhtb/7xupMYCG1vy2iG9PbxLO/vyZEFjaEs78a0WwVB0qxv8FDYhvcMbG/rfbb+y98sL/dnLQy8Fmwv2ulK6DK4a+/xPRYc55+rr9LR+O4WVqqv7bREbfN76m/BpYvrmbsqb8GWhbjSOSnv5vVlJa2kae/GmCb3xlopb9D6oAHuIWjvyCWGQVD7KK/ayjvXFneoL+W1uR5uKSfv2ysVtz5mJu/LqWEgZVim79K0HQFxzebv47nvAcbs5i/M3SRUp4Sl7+xoq8yQWOWv7uwx4T3RJS/pAnMVK60kr8ct8VKXK+Nv9JNF+8sKXm/00h2UA5Qcb8JfMSDVNRdv7rsP9t3qR4/CIDfwT9HIj9zPMkX9e5jP16So7WNVGg/rZVAcdiodj9g+/sCMll8P7SanpD6Qos//I7HOXoujT9f5/ubxDCOP/hUhUGgKZA/ATjxlekzkD/N3mc4mTeSP+mBKTayWpI/qxbctpmskj9nO2xU1AKVP7napTmI9Jw/MLETBlFOnz/5Vj2N8DOgP+kbQGZLP6A/Xge5Iwxcoj+9zKXofx+kP/xMvvW7TKQ/YYL5BJJDpT/wYltq8X2lPwZZ2NK3RaY/KTfnOHOBpz8Mso+uubSnP0stVmPieqo/tr3v3aJcqz+INkUx66usPybvzgpowa4/aqiQdvDPsT/kYStyZZ+zP8Me52s+s7M/uw5p9ItEtD9zdufcybC0P3gHynmWGLU/7T2LlgGktT9WnB0sAzS3P418DlifiLc/jWY9FIiMuD9vsy2yRMu4P0O1Rx+jErk/HyRKTKGpuj+o9te6FWi7Pwrzp8bXobs/bRAp54/puz8+YIZ6yDm8P+SK9Z1yvLw/menZjNtivT8uNa8GZrW9P77E2vSh0L0/4Vvttc51vj+P31BmYVq/P/H/levqZMA/fFp876VpwD/XA+rGBovAP0nExl0NjcA/tSmgyi1uwT/XJOAV/Z/BP3lwWYRl5cE/4H5/we8bwj9AqRT01S3CPyePvZd1gcI/K8HznzzWwj8r8A1zmm7DP1qpDNqXhMM/aWBpCpq6wz9b2LqHj9XDP22EcoJTKMQ/6GKvEWhLxD/9iVW65kvEP1mEbK05lsQ/wCNBmMb5xD9l6vDW1SHFP6dhQzvdacU/gs65hHbMxT8gf5a4Zv/FP5c0sNLXE8Y/O8nSjYt5xj+PrT7QpLTHP0fEr1hv3cc/zPKJbN7zxz81hmgF/qfIP2LWj7t0vMg/AychOpQcyT8Hswk1OVnJPzMFCnpsWck/sHc55Vh0yT+eqYMLwV3KP6s1hmnEbco/w4A4eImpyj8Y7zSZ6+TKP4bOg2dlScs/KlymnDxfyz9NY6FHa8jLP7YkPszX+ss/aPYIH0gDzD9b8jAmPorMP5UWS6y1wc0/clnnH7Agzj8l94G610XOPyelqFY3Ss4/rgbVdyxvzj85WV1i7s3OP0prqB/m184/DZIIuwwxzz+CUVKLEFXPP3nek7zEYs8/OSsvZxgE0D8Cv1m4Jw3QP+YQjRuCc9A/a9sn2ryc0D+BosTYxqfQP8KW9H2mtdA/SEpu0JHS0D/m68kfitvQP/0EVs5U+NA/rwU1L5v60D/MI3CmWCfRP6m2wGXTSNE/gAv2JrJi0T90XZ8tV5PRP1N6fV54q9E/VW1PK0tB0j9OVKSNtmrSP0ANXXggcdI/Z/z6UQL50j+MBukas0TTPyJSpCk3TdM/Q+4aH95W0z/+bfx0jaHTP0QUktW2rNM/oNvuNgbz0z9JOgDR4GPUPygOnuxtodQ/70ZtsD6n1D+6rJGP6ObUP8X4CtYDMtU/2W+zAZRL1T/mov/fzY3VP5whshy0otU/GFTxL7Om1T+Tucd7mMTVP5+hKNNe2dU/aorAKXUh1j9qlNFqIzPWP976jllXVdY/2sY6hCpc1j/o1wrncZbWP+e4T/l/udY/eW12IXRQ1z9BSkPbBIjXP9Eo1/jQw9c/WShrlGYK2D8xiTKEsBTYPyX/VxwDa9g/QDabS0Hr2D9fgT0HXfbYP46GRfq4Ftk/cenAahIk2T8lz+yDvDLZP4v7oN/1Utk/9uGjvCqA2T/s3630acfZP20QtzOXztk/I8fj0sA62j+jqqwHRkDaP1Pb4NI4Zto/Sdq/QGGq2j+4DOxYg9vaP9E6jy738to/IP0hhsaF2z9c3PnevJTbP8TAUFWRlds/t6UkvMaj2z9rVI2vubjbP+YikLyi/9s/DMjHEg8J3D+b5i9RoUPcPxPXoxhPadw/qUn7QVKv3D9ug/pojbfcPy7Nq05E2tw/qYYPD7P+3D89pTLG+gzdP/UGubKxKt0/+tp19LdA3T+8CUbEgkfdP073hiVJbt0/tHWZthGv3T8eNhTjmwfeP3qbAX4ECt4/O9g6rwla3j9SmKMsDGHeP4P3OOqUYt4/G+WiX77x3j8XkJM45vbeP5M3pSMeKt8/BHM2gKtC3z8T9aQIiXzfP4mUGoHomd8/FR7SnFC/3z/ovzKeo+zfP6mXTQmRQeA/1X50py9E4D+wRBHUb1rgP9IWFQcNi+A/8DRCFNKa4D9j4Rjqs8XgPwPJuN3zzOA/DGTbduLn4D9sSE0P3irhP/YLop/xLOE/OanqUc464T+YiIHfD0nhP2OxZJ4nc+E/F3/WWPeB4T8XKVABS5LhP9zSm7j8yOE/hox41CLJ4T/jZagN3ujhP74Wkuib8uE/LEPIhwIE4j970l/p3ifiP+T4pYNaMuI/6Roq3ZFA4j9xSrbNYZHiP3NOoECAl+I/fSP0NS+g4j9uG5BiY+niPy4PYVo6BeM/p5wP1MQm4z/pdnSFSDnjP135AYeLb+M/xUVMYvZ04z9HyYZAkILjP+zBhWMFiOM/UfCN/wPu4z/kAuTkDQvkPwpCzCkXG+Q/MXXDtGM15D/s/bVcXEDkP1So128iR+Q/5n8M31tx5D9z7gOiOHLkP+Qdxi53iuQ/iZk1Ruu/5D9QkkzEY/DkP9C+1SUt8+Q/6mGIGisB5T+2HG8KXgrlP7rWIsO3QOU/8Tq2PqpG5T8c1ndLoWblP6BZlxYsjuU/RTl2EPCk5T+RFlIqrMflP+jt8TrT3+U/GZVBXlbu5T+K7rinuA7mPxIzKm5IXOY/jxRUO5qY5j90GwDOr87mP2NC+77DBuc/kSvoh3tC5z+Zxhx/ImXnP8koF9Qnj+c/OAUEp0mi5z91UKmz0KfnP54bX3/Cu+c/YVj72j6+5z9WF1A9z/LnP7NrOZN+AOg/H6CI1yMU6D92n2x9LRroPwPGpGU4I+g/lEH1bDw76D8ehBbmSVLoPxjebZ/fVOg/5lbA+7do6D+vHODao2/oP04KEybQc+g/LrpWr9l26D+iWEl3NXzoP/6OajEPhOg/5H/MT1iM6D9KFrJAa8PoP3JByUfL7eg/Lpw8r+H76D9b7cV3YQXpPyff99OrBuk/+X3JG9Ma6T8RA4MpFUbpP4sNh+a5Yek/neZGk/N76T/5DEwdQIjpP4xT3Ibmpuk/hhggB4rJ6T++dFi7SObpP5hSW5IE7+k/PRVHNiL96T9XhFfjzQbqP9+l9t5HKeo/PgULBA8+6j+3tVK0bj7qP8kty8Jex+o/erbTwBbf6j+lJmrMPu3qPzxoU++TDes/IPCMffkN6z8qRdgW0RDrP+KlttvQK+s/d8zaxnZk6z+NHe9b1HbrPxnAnjj2gus/Gs4p6Cza6z82I2g2NevrP96InpXj8es/Ijgwm1kA7D/u2uhHt0vsP6iZhK8dY+w/ft0vkD9j7D+NtRQ5TWTsP8LpbTZyZOw/VtPU4AB07D8cF4ygiNfsP9hxrT4OFu0/oHvUGcZB7T9Ox0wgc2rtP22R2y8ll+0/52JQ+tO87T9jWYaindXtP5esz5522+0/JmpRS5fe7T9n0+Wx5nnuP3chu41Uie8/6kDgp8ST7z8KN979kt7vP9MBGvK++u8/CwXMOPUI8D8RoE0btifwP/GcNt7WJ/A/UwB+ykY08D/Rbj+5dUnwPz5eJ3pLaPA/bmACUX1q8D+26K+NMmzwP65WFwIFcPA/6LVQQf/T8D9NZFBwDPDwP/lJrRee9PA/7DUO5CYG8T++a16hnznxPwleJLjaQvE/aX5Ai9hU8T9D93uC/lXxP62uwRKoV/E/qLs+7wNf8T+wluSYfG3xP567kw44f/E/vouQhs2C8T8pXiKSfozxPyVwmtbzmPE/OsNRshyh8T+aSpmAaqvxP9ymCD085PE/vUFlECL08T9RYIG26BTyP+zOZ0t3FfI/6n+RvOsg8j8mUM+QHzDyP/5R6J/DPfI/7s1C1Khb8j+RCK94YGryP2lP/eENcfI/W+Fh0jNx8j9Gn5q8Bn7yPxCFITr/k/I/aoAkdF668j/VhIxBsNDyP3coXX7I5fI/LLx+HJvp8j9cWHufBhTzP8tZyYOcGPM/Gh8aLu1S8z+DLGXA8FXzP//vLaigWPM/MZ0lu8PQ8z9caUHb7BH0P01hfltIE/Q/OHF12R839D98lYvCUDz0P/A44aHOQ/Q/TUbhibRF9D/92No6/lf0P2bQG0wkbPQ/iEMEEVhs9D8jmxCWxW/0P1CRjRqEh/Q//dCz/ESl9D/+i6DkE6n0P0r0aQGbvPQ/oLH0nMTO9D9IdkMR6tj0P1godwvX3PQ/0TuJbYf79D9xPqBRjw/1P0mMHKcdEvU//3jF6TVG9T8wUjA7AF71P2Guz3O+bfU/buSdLeh+9T8OhNGnPIT1PxmMOzLKmPU/Ua2AEDqi9T8wxzvaXcX1P51Zx6S3+PU/pxcdQrod9j8015l2Bif2P/4J1j0ULvY/0jq+IRA19j+8P9cOFTb2P7JuoEtkP/Y/1rCoKVhh9j9jh6aox2L2P0QurQOKdPY/jtecVtaD9j9hbyx1Vo/2PyxhWJ02m/Y/k7VJIYqv9j8sEtJizrL2PzNvr5jW2/Y/ysS1CYb+9j91KCU85RL3Py9iWJ09Gfc/CeiuFakg9z8p0vT4LCr3P5jhGdKKPfc/XziSkDuJ9z/2x8JIgYz3Pwo+mq0Lj/c/CQfMkK+b9z/mrtBz3qH3Px4v/rpaq/c/STYWJlu29z+pnvIl7t73PzgE3TeXDPg/x26Z8F9Q+D+UIU9gDG/4PzmqFWmRivg/U0i2+G6O+D+EHKQv3874P8WH7/oG4/g/Xz57p48O+T8/EXBsa1X5P3t4wjPzX/k/VhvT7+t5+T9LPIUgZPn5P08EveQUBfo/iTmfwnqK+j8Oq5ZEzLz6Pyk+DIgcwvo/u6EVDOrC+j8M0cSs+uj6P+hxFjtO6vo/QlwCj78Z+z9UMFHHlVD7P/NFKxU1bvs/zdeHkDqH+z/441XxVIr7P+GkAlZum/s/e/ZmdTqk+z/xZEQqhLj7P45VbsupQvw/6INz0gl9/D+IrqhW7b/8P1UgurZ83Pw/04RZ5W77/D9SQlsGqx/9PxUsiukET/0/NCL99GF3/T/UadD2arL9P3dbI+AwK/4/n/19QDpT/j+4zVrhe4D+P6TP3bB4hP4/I/80JWrL/j8/73G2cwL/P6iXmZa8KP8/byAwY1lW/z+DR6CGrZ//Pwt1mZCPvv8/Hj+p2n3c/z+NTi6PnxkAQBK7Ns6ubQBA8dVHWsbkAECd0/hDrO0AQKy/GbwbBwFAvYdnBqi6AUDhDkc4eAoCQMum6SIkGgJAoBujCkFVAkAitHdGQVgCQKTYbBo3qAJAib5WoVW1AkCK2ChaP/kCQIUvVE4SBQNAQA6SDDcfA0AZSelo9yMDQBGPZmanuwNAywCSTPQMBUD2AKhvwboFQEMxRqgm9ghAPqV8NaEPD0A=",
          "dtype": "f8"
         },
         "y": {
          "bdata": "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",
          "dtype": "f8"
         }
        },
        {
         "legendgroup": "B",
         "line": {
          "width": 1
         },
         "marker": {
          "color": "darkred",
          "size": 0
         },
         "mode": "lines",
         "name": "B",
         "showlegend": false,
         "type": "scatter",
         "x": {
          "bdata": "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",
          "dtype": "f8"
         },
         "y": {
          "bdata": "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",
          "dtype": "f8"
         }
        },
        {
         "fill": "tonexty",
         "legendgroup": "B",
         "line": {
          "width": 1
         },
         "marker": {
          "color": "darkred",
          "size": 0
         },
         "mode": "lines",
         "name": "B",
         "showlegend": false,
         "type": "scatter",
         "x": {
          "bdata": "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",
          "dtype": "f8"
         },
         "y": {
          "bdata": "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",
          "dtype": "f8"
         }
        }
       ],
       "layout": {
        "autosize": false,
        "dragmode": "pan",
        "font": {
         "family": "Arial",
         "size": 18
        },
        "height": 600,
        "showlegend": true,
        "template": {
         "data": {
          "bar": [
           {
            "error_x": {
             "color": "rgb(36,36,36)"
            },
            "error_y": {
             "color": "rgb(36,36,36)"
            },
            "marker": {
             "line": {
              "color": "white",
              "width": 0.5
             },
             "pattern": {
              "fillmode": "overlay",
              "size": 10,
              "solidity": 0.2
             }
            },
            "type": "bar"
           }
          ],
          "barpolar": [
           {
            "marker": {
             "line": {
              "color": "white",
              "width": 0.5
             },
             "pattern": {
              "fillmode": "overlay",
              "size": 10,
              "solidity": 0.2
             }
            },
            "type": "barpolar"
           }
          ],
          "carpet": [
           {
            "aaxis": {
             "endlinecolor": "rgb(36,36,36)",
             "gridcolor": "white",
             "linecolor": "white",
             "minorgridcolor": "white",
             "startlinecolor": "rgb(36,36,36)"
            },
            "baxis": {
             "endlinecolor": "rgb(36,36,36)",
             "gridcolor": "white",
             "linecolor": "white",
             "minorgridcolor": "white",
             "startlinecolor": "rgb(36,36,36)"
            },
            "type": "carpet"
           }
          ],
          "choropleth": [
           {
            "colorbar": {
             "outlinewidth": 1,
             "tickcolor": "rgb(36,36,36)",
             "ticks": "outside"
            },
            "type": "choropleth"
           }
          ],
          "contour": [
           {
            "colorbar": {
             "outlinewidth": 1,
             "tickcolor": "rgb(36,36,36)",
             "ticks": "outside"
            },
            "colorscale": [
             [
              0,
              "#440154"
             ],
             [
              0.1111111111111111,
              "#482878"
             ],
             [
              0.2222222222222222,
              "#3e4989"
             ],
             [
              0.3333333333333333,
              "#31688e"
             ],
             [
              0.4444444444444444,
              "#26828e"
             ],
             [
              0.5555555555555556,
              "#1f9e89"
             ],
             [
              0.6666666666666666,
              "#35b779"
             ],
             [
              0.7777777777777778,
              "#6ece58"
             ],
             [
              0.8888888888888888,
              "#b5de2b"
             ],
             [
              1,
              "#fde725"
             ]
            ],
            "type": "contour"
           }
          ],
          "contourcarpet": [
           {
            "colorbar": {
             "outlinewidth": 1,
             "tickcolor": "rgb(36,36,36)",
             "ticks": "outside"
            },
            "type": "contourcarpet"
           }
          ],
          "heatmap": [
           {
            "colorbar": {
             "outlinewidth": 1,
             "tickcolor": "rgb(36,36,36)",
             "ticks": "outside"
            },
            "colorscale": [
             [
              0,
              "#440154"
             ],
             [
              0.1111111111111111,
              "#482878"
             ],
             [
              0.2222222222222222,
              "#3e4989"
             ],
             [
              0.3333333333333333,
              "#31688e"
             ],
             [
              0.4444444444444444,
              "#26828e"
             ],
             [
              0.5555555555555556,
              "#1f9e89"
             ],
             [
              0.6666666666666666,
              "#35b779"
             ],
             [
              0.7777777777777778,
              "#6ece58"
             ],
             [
              0.8888888888888888,
              "#b5de2b"
             ],
             [
              1,
              "#fde725"
             ]
            ],
            "type": "heatmap"
           }
          ],
          "histogram": [
           {
            "marker": {
             "line": {
              "color": "white",
              "width": 0.6
             }
            },
            "type": "histogram"
           }
          ],
          "histogram2d": [
           {
            "colorbar": {
             "outlinewidth": 1,
             "tickcolor": "rgb(36,36,36)",
             "ticks": "outside"
            },
            "colorscale": [
             [
              0,
              "#440154"
             ],
             [
              0.1111111111111111,
              "#482878"
             ],
             [
              0.2222222222222222,
              "#3e4989"
             ],
             [
              0.3333333333333333,
              "#31688e"
             ],
             [
              0.4444444444444444,
              "#26828e"
             ],
             [
              0.5555555555555556,
              "#1f9e89"
             ],
             [
              0.6666666666666666,
              "#35b779"
             ],
             [
              0.7777777777777778,
              "#6ece58"
             ],
             [
              0.8888888888888888,
              "#b5de2b"
             ],
             [
              1,
              "#fde725"
             ]
            ],
            "type": "histogram2d"
           }
          ],
          "histogram2dcontour": [
           {
            "colorbar": {
             "outlinewidth": 1,
             "tickcolor": "rgb(36,36,36)",
             "ticks": "outside"
            },
            "colorscale": [
             [
              0,
              "#440154"
             ],
             [
              0.1111111111111111,
              "#482878"
             ],
             [
              0.2222222222222222,
              "#3e4989"
             ],
             [
              0.3333333333333333,
              "#31688e"
             ],
             [
              0.4444444444444444,
              "#26828e"
             ],
             [
              0.5555555555555556,
              "#1f9e89"
             ],
             [
              0.6666666666666666,
              "#35b779"
             ],
             [
              0.7777777777777778,
              "#6ece58"
             ],
             [
              0.8888888888888888,
              "#b5de2b"
             ],
             [
              1,
              "#fde725"
             ]
            ],
            "type": "histogram2dcontour"
           }
          ],
          "mesh3d": [
           {
            "colorbar": {
             "outlinewidth": 1,
             "tickcolor": "rgb(36,36,36)",
             "ticks": "outside"
            },
            "type": "mesh3d"
           }
          ],
          "parcoords": [
           {
            "line": {
             "colorbar": {
              "outlinewidth": 1,
              "tickcolor": "rgb(36,36,36)",
              "ticks": "outside"
             }
            },
            "type": "parcoords"
           }
          ],
          "pie": [
           {
            "automargin": true,
            "type": "pie"
           }
          ],
          "scatter": [
           {
            "fillpattern": {
             "fillmode": "overlay",
             "size": 10,
             "solidity": 0.2
            },
            "type": "scatter"
           }
          ],
          "scatter3d": [
           {
            "line": {
             "colorbar": {
              "outlinewidth": 1,
              "tickcolor": "rgb(36,36,36)",
              "ticks": "outside"
             }
            },
            "marker": {
             "colorbar": {
              "outlinewidth": 1,
              "tickcolor": "rgb(36,36,36)",
              "ticks": "outside"
             }
            },
            "type": "scatter3d"
           }
          ],
          "scattercarpet": [
           {
            "marker": {
             "colorbar": {
              "outlinewidth": 1,
              "tickcolor": "rgb(36,36,36)",
              "ticks": "outside"
             }
            },
            "type": "scattercarpet"
           }
          ],
          "scattergeo": [
           {
            "marker": {
             "colorbar": {
              "outlinewidth": 1,
              "tickcolor": "rgb(36,36,36)",
              "ticks": "outside"
             }
            },
            "type": "scattergeo"
           }
          ],
          "scattergl": [
           {
            "marker": {
             "colorbar": {
              "outlinewidth": 1,
              "tickcolor": "rgb(36,36,36)",
              "ticks": "outside"
             }
            },
            "type": "scattergl"
           }
          ],
          "scattermap": [
           {
            "marker": {
             "colorbar": {
              "outlinewidth": 1,
              "tickcolor": "rgb(36,36,36)",
              "ticks": "outside"
             }
            },
            "type": "scattermap"
           }
          ],
          "scattermapbox": [
           {
            "marker": {
             "colorbar": {
              "outlinewidth": 1,
              "tickcolor": "rgb(36,36,36)",
              "ticks": "outside"
             }
            },
            "type": "scattermapbox"
           }
          ],
          "scatterpolar": [
           {
            "marker": {
             "colorbar": {
              "outlinewidth": 1,
              "tickcolor": "rgb(36,36,36)",
              "ticks": "outside"
             }
            },
            "type": "scatterpolar"
           }
          ],
          "scatterpolargl": [
           {
            "marker": {
             "colorbar": {
              "outlinewidth": 1,
              "tickcolor": "rgb(36,36,36)",
              "ticks": "outside"
             }
            },
            "type": "scatterpolargl"
           }
          ],
          "scatterternary": [
           {
            "marker": {
             "colorbar": {
              "outlinewidth": 1,
              "tickcolor": "rgb(36,36,36)",
              "ticks": "outside"
             }
            },
            "type": "scatterternary"
           }
          ],
          "surface": [
           {
            "colorbar": {
             "outlinewidth": 1,
             "tickcolor": "rgb(36,36,36)",
             "ticks": "outside"
            },
            "colorscale": [
             [
              0,
              "#440154"
             ],
             [
              0.1111111111111111,
              "#482878"
             ],
             [
              0.2222222222222222,
              "#3e4989"
             ],
             [
              0.3333333333333333,
              "#31688e"
             ],
             [
              0.4444444444444444,
              "#26828e"
             ],
             [
              0.5555555555555556,
              "#1f9e89"
             ],
             [
              0.6666666666666666,
              "#35b779"
             ],
             [
              0.7777777777777778,
              "#6ece58"
             ],
             [
              0.8888888888888888,
              "#b5de2b"
             ],
             [
              1,
              "#fde725"
             ]
            ],
            "type": "surface"
           }
          ],
          "table": [
           {
            "cells": {
             "fill": {
              "color": "rgb(237,237,237)"
             },
             "line": {
              "color": "white"
             }
            },
            "header": {
             "fill": {
              "color": "rgb(217,217,217)"
             },
             "line": {
              "color": "white"
             }
            },
            "type": "table"
           }
          ]
         },
         "layout": {
          "annotationdefaults": {
           "arrowhead": 0,
           "arrowwidth": 1
          },
          "autotypenumbers": "strict",
          "coloraxis": {
           "colorbar": {
            "outlinewidth": 1,
            "tickcolor": "rgb(36,36,36)",
            "ticks": "outside"
           }
          },
          "colorscale": {
           "diverging": [
            [
             0,
             "rgb(103,0,31)"
            ],
            [
             0.1,
             "rgb(178,24,43)"
            ],
            [
             0.2,
             "rgb(214,96,77)"
            ],
            [
             0.3,
             "rgb(244,165,130)"
            ],
            [
             0.4,
             "rgb(253,219,199)"
            ],
            [
             0.5,
             "rgb(247,247,247)"
            ],
            [
             0.6,
             "rgb(209,229,240)"
            ],
            [
             0.7,
             "rgb(146,197,222)"
            ],
            [
             0.8,
             "rgb(67,147,195)"
            ],
            [
             0.9,
             "rgb(33,102,172)"
            ],
            [
             1,
             "rgb(5,48,97)"
            ]
           ],
           "sequential": [
            [
             0,
             "#440154"
            ],
            [
             0.1111111111111111,
             "#482878"
            ],
            [
             0.2222222222222222,
             "#3e4989"
            ],
            [
             0.3333333333333333,
             "#31688e"
            ],
            [
             0.4444444444444444,
             "#26828e"
            ],
            [
             0.5555555555555556,
             "#1f9e89"
            ],
            [
             0.6666666666666666,
             "#35b779"
            ],
            [
             0.7777777777777778,
             "#6ece58"
            ],
            [
             0.8888888888888888,
             "#b5de2b"
            ],
            [
             1,
             "#fde725"
            ]
           ],
           "sequentialminus": [
            [
             0,
             "#440154"
            ],
            [
             0.1111111111111111,
             "#482878"
            ],
            [
             0.2222222222222222,
             "#3e4989"
            ],
            [
             0.3333333333333333,
             "#31688e"
            ],
            [
             0.4444444444444444,
             "#26828e"
            ],
            [
             0.5555555555555556,
             "#1f9e89"
            ],
            [
             0.6666666666666666,
             "#35b779"
            ],
            [
             0.7777777777777778,
             "#6ece58"
            ],
            [
             0.8888888888888888,
             "#b5de2b"
            ],
            [
             1,
             "#fde725"
            ]
           ]
          },
          "colorway": [
           "#1F77B4",
           "#FF7F0E",
           "#2CA02C",
           "#D62728",
           "#9467BD",
           "#8C564B",
           "#E377C2",
           "#7F7F7F",
           "#BCBD22",
           "#17BECF"
          ],
          "font": {
           "color": "rgb(36,36,36)"
          },
          "geo": {
           "bgcolor": "white",
           "lakecolor": "white",
           "landcolor": "white",
           "showlakes": true,
           "showland": true,
           "subunitcolor": "white"
          },
          "hoverlabel": {
           "align": "left"
          },
          "hovermode": "closest",
          "mapbox": {
           "style": "light"
          },
          "paper_bgcolor": "white",
          "plot_bgcolor": "white",
          "polar": {
           "angularaxis": {
            "gridcolor": "rgb(232,232,232)",
            "linecolor": "rgb(36,36,36)",
            "showgrid": false,
            "showline": true,
            "ticks": "outside"
           },
           "bgcolor": "white",
           "radialaxis": {
            "gridcolor": "rgb(232,232,232)",
            "linecolor": "rgb(36,36,36)",
            "showgrid": false,
            "showline": true,
            "ticks": "outside"
           }
          },
          "scene": {
           "xaxis": {
            "backgroundcolor": "white",
            "gridcolor": "rgb(232,232,232)",
            "gridwidth": 2,
            "linecolor": "rgb(36,36,36)",
            "showbackground": true,
            "showgrid": false,
            "showline": true,
            "ticks": "outside",
            "zeroline": false,
            "zerolinecolor": "rgb(36,36,36)"
           },
           "yaxis": {
            "backgroundcolor": "white",
            "gridcolor": "rgb(232,232,232)",
            "gridwidth": 2,
            "linecolor": "rgb(36,36,36)",
            "showbackground": true,
            "showgrid": false,
            "showline": true,
            "ticks": "outside",
            "zeroline": false,
            "zerolinecolor": "rgb(36,36,36)"
           },
           "zaxis": {
            "backgroundcolor": "white",
            "gridcolor": "rgb(232,232,232)",
            "gridwidth": 2,
            "linecolor": "rgb(36,36,36)",
            "showbackground": true,
            "showgrid": false,
            "showline": true,
            "ticks": "outside",
            "zeroline": false,
            "zerolinecolor": "rgb(36,36,36)"
           }
          },
          "shapedefaults": {
           "fillcolor": "black",
           "line": {
            "width": 0
           },
           "opacity": 0.3
          },
          "ternary": {
           "aaxis": {
            "gridcolor": "rgb(232,232,232)",
            "linecolor": "rgb(36,36,36)",
            "showgrid": false,
            "showline": true,
            "ticks": "outside"
           },
           "baxis": {
            "gridcolor": "rgb(232,232,232)",
            "linecolor": "rgb(36,36,36)",
            "showgrid": false,
            "showline": true,
            "ticks": "outside"
           },
           "bgcolor": "white",
           "caxis": {
            "gridcolor": "rgb(232,232,232)",
            "linecolor": "rgb(36,36,36)",
            "showgrid": false,
            "showline": true,
            "ticks": "outside"
           }
          },
          "title": {
           "x": 0.05
          },
          "xaxis": {
           "automargin": true,
           "gridcolor": "rgb(232,232,232)",
           "linecolor": "rgb(36,36,36)",
           "showgrid": false,
           "showline": true,
           "ticks": "outside",
           "title": {
            "standoff": 15
           },
           "zeroline": false,
           "zerolinecolor": "rgb(36,36,36)"
          },
          "yaxis": {
           "automargin": true,
           "gridcolor": "rgb(232,232,232)",
           "linecolor": "rgb(36,36,36)",
           "showgrid": false,
           "showline": true,
           "ticks": "outside",
           "title": {
            "standoff": 15
           },
           "zeroline": false,
           "zerolinecolor": "rgb(36,36,36)"
          }
         }
        },
        "title": {
         "text": " r = 0.0183, p = 0.414365"
        },
        "width": 600
       }
      }
     },
     "metadata": {},
     "output_type": "display_data"
    }
   ],
   "source": [
    "visualizations.correlation_plot(data_x=corr_data['X'].values,\n",
    "                                data_y=corr_data['Y'].values,\n",
    "                                groups=corr_data['Group'].values,\n",
    "                                colors=corr_colors,\n",
    "                                plot_points=False,\n",
    "                                plot_fits=True,\n",
    "                                plot_ci=True)"
   ]
  },
  {
   "cell_type": "code",
   "execution_count": null,
   "metadata": {},
   "outputs": [],
   "source": []
  }
 ],
 "metadata": {
  "kernelspec": {
   "display_name": "critical_test",
   "language": "python",
   "name": "python3"
  },
  "language_info": {
   "codemirror_mode": {
    "name": "ipython",
    "version": 3
   },
   "file_extension": ".py",
   "mimetype": "text/x-python",
   "name": "python",
   "nbconvert_exporter": "python",
   "pygments_lexer": "ipython3",
   "version": "3.13.2"
  }
 },
 "nbformat": 4,
 "nbformat_minor": 2
}
